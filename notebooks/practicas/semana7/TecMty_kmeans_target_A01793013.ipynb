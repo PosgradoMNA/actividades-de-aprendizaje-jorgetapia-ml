{
  "nbformat": 4,
  "nbformat_minor": 0,
  "metadata": {
    "colab": {
      "provenance": [],
      "collapsed_sections": []
    },
    "kernelspec": {
      "name": "python3",
      "display_name": "Python 3"
    },
    "language_info": {
      "name": "python"
    }
  },
  "cells": [
    {
      "cell_type": "markdown",
      "source": [
        "# Nombre: Jorge Luis Tapia Peñaloza\n",
        "# N Cuenta: A01793013\n",
        "# Materia: Ciencia y analítica de datos (Gpo 10)\n",
        "# Profesor: María de la Paz Rico Fernández\n",
        "# Fecha: 09-11-22"
      ],
      "metadata": {
        "id": "57F4r-lAcC99"
      }
    },
    {
      "cell_type": "code",
      "source": [],
      "metadata": {
        "id": "i0WKZ6PKcKAx"
      },
      "execution_count": null,
      "outputs": []
    },
    {
      "cell_type": "markdown",
      "source": [
        "Este notebook se basa en información de target\n",
        "![imagen.png](https://www.america-retail.com/static//2020/12/target01.jpg)\n",
        "\n",
        "\n",
        "Ahora imagina que somos parte del equipo de data science de la empresa Target, una de las tiendas con mayor presencia en Estados Unidos. El departamento de logistica acude a nosotros para saber donde le conviene poner sus almacenes, para que se optimice el gasto de gasolina, los tiempos de entrega de los productos y se disminuyan costos. Para ello, nos pasan los datos de latitud y longitud de cada una de las tiendas.\n",
        "\n",
        "https://www.kaggle.com/datasets/saejinmahlauheinert/target-store-locations?select=target-locations.csv\n",
        "\n",
        "Si quieres saber un poco más de graficas geográficas consulta el siguiente notebook\n",
        "https://colab.research.google.com/github/QuantEcon/quantecon-notebooks-datascience/blob/master/applications/maps.ipynb#scrollTo=uo2oPtSCeAOz"
      ],
      "metadata": {
        "id": "6mUW5QNwhz5T"
      }
    },
    {
      "cell_type": "code",
      "source": [
        "! pip install qeds fiona geopandas xgboost gensim folium pyLDAvis descartes"
      ],
      "metadata": {
        "colab": {
          "base_uri": "https://localhost:8080/"
        },
        "id": "YwkfEqinwESD",
        "outputId": "56213bb8-45ee-40c2-9fd8-c0b47d63b8cf"
      },
      "execution_count": 1,
      "outputs": [
        {
          "output_type": "stream",
          "name": "stdout",
          "text": [
            "Looking in indexes: https://pypi.org/simple, https://us-python.pkg.dev/colab-wheels/public/simple/\n",
            "Collecting qeds\n",
            "  Downloading qeds-0.7.0.tar.gz (24 kB)\n",
            "Collecting fiona\n",
            "  Downloading Fiona-1.8.22-cp37-cp37m-manylinux2014_x86_64.whl (16.7 MB)\n",
            "\u001b[K     |████████████████████████████████| 16.7 MB 11.3 MB/s \n",
            "\u001b[?25hCollecting geopandas\n",
            "  Downloading geopandas-0.10.2-py2.py3-none-any.whl (1.0 MB)\n",
            "\u001b[K     |████████████████████████████████| 1.0 MB 51.8 MB/s \n",
            "\u001b[?25hRequirement already satisfied: xgboost in /usr/local/lib/python3.7/dist-packages (0.90)\n",
            "Requirement already satisfied: gensim in /usr/local/lib/python3.7/dist-packages (3.6.0)\n",
            "Requirement already satisfied: folium in /usr/local/lib/python3.7/dist-packages (0.12.1.post1)\n",
            "Collecting pyLDAvis\n",
            "  Downloading pyLDAvis-3.3.1.tar.gz (1.7 MB)\n",
            "\u001b[K     |████████████████████████████████| 1.7 MB 42.5 MB/s \n",
            "\u001b[?25h  Installing build dependencies ... \u001b[?25l\u001b[?25hdone\n",
            "  Getting requirements to build wheel ... \u001b[?25l\u001b[?25hdone\n",
            "  Installing backend dependencies ... \u001b[?25l\u001b[?25hdone\n",
            "    Preparing wheel metadata ... \u001b[?25l\u001b[?25hdone\n",
            "Requirement already satisfied: descartes in /usr/local/lib/python3.7/dist-packages (1.1.0)\n",
            "Requirement already satisfied: pandas in /usr/local/lib/python3.7/dist-packages (from qeds) (1.3.5)\n",
            "Requirement already satisfied: requests in /usr/local/lib/python3.7/dist-packages (from qeds) (2.23.0)\n",
            "Collecting quandl\n",
            "  Downloading Quandl-3.7.0-py2.py3-none-any.whl (26 kB)\n",
            "Requirement already satisfied: scipy in /usr/local/lib/python3.7/dist-packages (from qeds) (1.7.3)\n",
            "Requirement already satisfied: numpy in /usr/local/lib/python3.7/dist-packages (from qeds) (1.21.6)\n",
            "Collecting quantecon\n",
            "  Downloading quantecon-0.5.3-py3-none-any.whl (179 kB)\n",
            "\u001b[K     |████████████████████████████████| 179 kB 62.2 MB/s \n",
            "\u001b[?25hRequirement already satisfied: matplotlib in /usr/local/lib/python3.7/dist-packages (from qeds) (3.2.2)\n",
            "Requirement already satisfied: pyarrow in /usr/local/lib/python3.7/dist-packages (from qeds) (6.0.1)\n",
            "Requirement already satisfied: openpyxl in /usr/local/lib/python3.7/dist-packages (from qeds) (3.0.10)\n",
            "Requirement already satisfied: plotly in /usr/local/lib/python3.7/dist-packages (from qeds) (5.5.0)\n",
            "Requirement already satisfied: pandas_datareader in /usr/local/lib/python3.7/dist-packages (from qeds) (0.9.0)\n",
            "Requirement already satisfied: scikit-learn in /usr/local/lib/python3.7/dist-packages (from qeds) (1.0.2)\n",
            "Requirement already satisfied: seaborn in /usr/local/lib/python3.7/dist-packages (from qeds) (0.11.2)\n",
            "Requirement already satisfied: statsmodels in /usr/local/lib/python3.7/dist-packages (from qeds) (0.12.2)\n",
            "Collecting cligj>=0.5\n",
            "  Downloading cligj-0.7.2-py3-none-any.whl (7.1 kB)\n",
            "Requirement already satisfied: attrs>=17 in /usr/local/lib/python3.7/dist-packages (from fiona) (22.1.0)\n",
            "Requirement already satisfied: setuptools in /usr/local/lib/python3.7/dist-packages (from fiona) (57.4.0)\n",
            "Requirement already satisfied: certifi in /usr/local/lib/python3.7/dist-packages (from fiona) (2022.9.24)\n",
            "Collecting click-plugins>=1.0\n",
            "  Downloading click_plugins-1.1.1-py2.py3-none-any.whl (7.5 kB)\n",
            "Requirement already satisfied: six>=1.7 in /usr/local/lib/python3.7/dist-packages (from fiona) (1.15.0)\n",
            "Requirement already satisfied: click>=4.0 in /usr/local/lib/python3.7/dist-packages (from fiona) (7.1.2)\n",
            "Collecting munch\n",
            "  Downloading munch-2.5.0-py2.py3-none-any.whl (10 kB)\n",
            "Collecting pyproj>=2.2.0\n",
            "  Downloading pyproj-3.2.1-cp37-cp37m-manylinux2010_x86_64.whl (6.3 MB)\n",
            "\u001b[K     |████████████████████████████████| 6.3 MB 50.5 MB/s \n",
            "\u001b[?25hRequirement already satisfied: shapely>=1.6 in /usr/local/lib/python3.7/dist-packages (from geopandas) (1.8.5.post1)\n",
            "Requirement already satisfied: python-dateutil>=2.7.3 in /usr/local/lib/python3.7/dist-packages (from pandas->qeds) (2.8.2)\n",
            "Requirement already satisfied: pytz>=2017.3 in /usr/local/lib/python3.7/dist-packages (from pandas->qeds) (2022.6)\n",
            "Requirement already satisfied: smart-open>=1.2.1 in /usr/local/lib/python3.7/dist-packages (from gensim) (5.2.1)\n",
            "Requirement already satisfied: branca>=0.3.0 in /usr/local/lib/python3.7/dist-packages (from folium) (0.5.0)\n",
            "Requirement already satisfied: jinja2>=2.9 in /usr/local/lib/python3.7/dist-packages (from folium) (2.11.3)\n",
            "Requirement already satisfied: MarkupSafe>=0.23 in /usr/local/lib/python3.7/dist-packages (from jinja2>=2.9->folium) (2.0.1)\n",
            "Requirement already satisfied: future in /usr/local/lib/python3.7/dist-packages (from pyLDAvis) (0.16.0)\n",
            "Requirement already satisfied: numexpr in /usr/local/lib/python3.7/dist-packages (from pyLDAvis) (2.8.4)\n",
            "Requirement already satisfied: joblib in /usr/local/lib/python3.7/dist-packages (from pyLDAvis) (1.2.0)\n",
            "Collecting sklearn\n",
            "  Downloading sklearn-0.0.post1.tar.gz (3.6 kB)\n",
            "Collecting funcy\n",
            "  Downloading funcy-1.17-py2.py3-none-any.whl (33 kB)\n",
            "Requirement already satisfied: kiwisolver>=1.0.1 in /usr/local/lib/python3.7/dist-packages (from matplotlib->qeds) (1.4.4)\n",
            "Requirement already satisfied: cycler>=0.10 in /usr/local/lib/python3.7/dist-packages (from matplotlib->qeds) (0.11.0)\n",
            "Requirement already satisfied: pyparsing!=2.0.4,!=2.1.2,!=2.1.6,>=2.0.1 in /usr/local/lib/python3.7/dist-packages (from matplotlib->qeds) (3.0.9)\n",
            "Requirement already satisfied: typing-extensions in /usr/local/lib/python3.7/dist-packages (from kiwisolver>=1.0.1->matplotlib->qeds) (4.1.1)\n",
            "Requirement already satisfied: et-xmlfile in /usr/local/lib/python3.7/dist-packages (from openpyxl->qeds) (1.1.0)\n",
            "Requirement already satisfied: lxml in /usr/local/lib/python3.7/dist-packages (from pandas_datareader->qeds) (4.9.1)\n",
            "Requirement already satisfied: idna<3,>=2.5 in /usr/local/lib/python3.7/dist-packages (from requests->qeds) (2.10)\n",
            "Requirement already satisfied: chardet<4,>=3.0.2 in /usr/local/lib/python3.7/dist-packages (from requests->qeds) (3.0.4)\n",
            "Requirement already satisfied: urllib3!=1.25.0,!=1.25.1,<1.26,>=1.21.1 in /usr/local/lib/python3.7/dist-packages (from requests->qeds) (1.24.3)\n",
            "Requirement already satisfied: tenacity>=6.2.0 in /usr/local/lib/python3.7/dist-packages (from plotly->qeds) (8.1.0)\n",
            "Requirement already satisfied: more-itertools in /usr/local/lib/python3.7/dist-packages (from quandl->qeds) (9.0.0)\n",
            "Collecting inflection>=0.3.1\n",
            "  Downloading inflection-0.5.1-py2.py3-none-any.whl (9.5 kB)\n",
            "Requirement already satisfied: sympy in /usr/local/lib/python3.7/dist-packages (from quantecon->qeds) (1.7.1)\n",
            "Requirement already satisfied: numba in /usr/local/lib/python3.7/dist-packages (from quantecon->qeds) (0.56.4)\n",
            "Requirement already satisfied: llvmlite<0.40,>=0.39.0dev0 in /usr/local/lib/python3.7/dist-packages (from numba->quantecon->qeds) (0.39.1)\n",
            "Requirement already satisfied: importlib-metadata in /usr/local/lib/python3.7/dist-packages (from numba->quantecon->qeds) (4.13.0)\n",
            "Requirement already satisfied: zipp>=0.5 in /usr/local/lib/python3.7/dist-packages (from importlib-metadata->numba->quantecon->qeds) (3.10.0)\n",
            "Requirement already satisfied: threadpoolctl>=2.0.0 in /usr/local/lib/python3.7/dist-packages (from scikit-learn->qeds) (3.1.0)\n",
            "Requirement already satisfied: patsy>=0.5 in /usr/local/lib/python3.7/dist-packages (from statsmodels->qeds) (0.5.3)\n",
            "Requirement already satisfied: mpmath>=0.19 in /usr/local/lib/python3.7/dist-packages (from sympy->quantecon->qeds) (1.2.1)\n",
            "Building wheels for collected packages: qeds, pyLDAvis, sklearn\n",
            "  Building wheel for qeds (setup.py) ... \u001b[?25l\u001b[?25hdone\n",
            "  Created wheel for qeds: filename=qeds-0.7.0-py3-none-any.whl size=27812 sha256=18093138af0f29d555c002e836d2df24511e49d5f6118a5fe94540f9f78d917e\n",
            "  Stored in directory: /root/.cache/pip/wheels/fc/8c/52/0cc036b9730b75850b9845770780f8d05ed08ff38a67cbaa29\n",
            "  Building wheel for pyLDAvis (PEP 517) ... \u001b[?25l\u001b[?25hdone\n",
            "  Created wheel for pyLDAvis: filename=pyLDAvis-3.3.1-py2.py3-none-any.whl size=136897 sha256=d91a429e8390c7047669e855e4ba4b9103cca0ce737d5341569dca4d48c69b38\n",
            "  Stored in directory: /root/.cache/pip/wheels/c9/21/f6/17bcf2667e8a68532ba2fbf6d5c72fdf4c7f7d9abfa4852d2f\n",
            "  Building wheel for sklearn (setup.py) ... \u001b[?25l\u001b[?25hdone\n",
            "  Created wheel for sklearn: filename=sklearn-0.0.post1-py3-none-any.whl size=2344 sha256=19896567ac2fbd3ae31debf653d5334b94a864022dbab266321efab956624fda\n",
            "  Stored in directory: /root/.cache/pip/wheels/42/56/cc/4a8bf86613aafd5b7f1b310477667c1fca5c51c3ae4124a003\n",
            "Successfully built qeds pyLDAvis sklearn\n",
            "Installing collected packages: munch, inflection, cligj, click-plugins, sklearn, quantecon, quandl, pyproj, funcy, fiona, qeds, pyLDAvis, geopandas\n",
            "Successfully installed click-plugins-1.1.1 cligj-0.7.2 fiona-1.8.22 funcy-1.17 geopandas-0.10.2 inflection-0.5.1 munch-2.5.0 pyLDAvis-3.3.1 pyproj-3.2.1 qeds-0.7.0 quandl-3.7.0 quantecon-0.5.3 sklearn-0.0.post1\n"
          ]
        }
      ]
    },
    {
      "cell_type": "code",
      "source": [
        "import pandas as pd\n",
        "import numpy as np\n",
        "from tqdm import tqdm\n",
        "%matplotlib inline\n",
        "import numpy as np\n",
        "import matplotlib.pyplot as plt\n",
        "import geopandas"
      ],
      "metadata": {
        "id": "WBpdGjbquQii"
      },
      "execution_count": 2,
      "outputs": []
    },
    {
      "cell_type": "markdown",
      "source": [
        "Importa la base de datos"
      ],
      "metadata": {
        "id": "KNTIoZlGvPum"
      }
    },
    {
      "cell_type": "code",
      "source": [
        "url=\"https://raw.githubusercontent.com/marypazrf/bdd/main/target-locations.csv\"\n",
        "df=pd.read_csv(url)"
      ],
      "metadata": {
        "id": "PAJWHRVN781V"
      },
      "execution_count": 3,
      "outputs": []
    },
    {
      "cell_type": "markdown",
      "source": [
        "Exploremos los datos."
      ],
      "metadata": {
        "id": "sH4hvPAYvUGY"
      }
    },
    {
      "cell_type": "code",
      "source": [
        "df.head()"
      ],
      "metadata": {
        "colab": {
          "base_uri": "https://localhost:8080/",
          "height": 206
        },
        "id": "DuzNp7KseyBg",
        "outputId": "a5b7c6dd-93a3-470b-abbc-6c876a77267e"
      },
      "execution_count": 4,
      "outputs": [
        {
          "output_type": "execute_result",
          "data": {
            "text/plain": [
              "        name   latitude  longitude  \\\n",
              "0  Alabaster  33.224225 -86.804174   \n",
              "1   Bessemer  33.334550 -86.989778   \n",
              "2     Daphne  30.602875 -87.895932   \n",
              "3    Decatur  34.560148 -86.971559   \n",
              "4     Dothan  31.266061 -85.446422   \n",
              "\n",
              "                                             address         phone  \\\n",
              "0        250 S Colonial Dr, Alabaster, AL 35007-4657  205-564-2608   \n",
              "1       4889 Promenade Pkwy, Bessemer, AL 35022-7305  205-565-3760   \n",
              "2          1698 US Highway 98, Daphne, AL 36526-4252  251-621-3540   \n",
              "3  1235 Point Mallard Pkwy SE, Decatur, AL 35601-...  256-898-3036   \n",
              "4         4601 Montgomery Hwy, Dothan, AL 36303-1522  334-340-1112   \n",
              "\n",
              "                                    website  \n",
              "0  https://www.target.com/sl/alabaster/2276  \n",
              "1   https://www.target.com/sl/bessemer/2375  \n",
              "2     https://www.target.com/sl/daphne/1274  \n",
              "3    https://www.target.com/sl/decatur/2084  \n",
              "4     https://www.target.com/sl/dothan/1468  "
            ],
            "text/html": [
              "\n",
              "  <div id=\"df-50a5eb99-0c10-4cb5-8b3c-9a33f284def0\">\n",
              "    <div class=\"colab-df-container\">\n",
              "      <div>\n",
              "<style scoped>\n",
              "    .dataframe tbody tr th:only-of-type {\n",
              "        vertical-align: middle;\n",
              "    }\n",
              "\n",
              "    .dataframe tbody tr th {\n",
              "        vertical-align: top;\n",
              "    }\n",
              "\n",
              "    .dataframe thead th {\n",
              "        text-align: right;\n",
              "    }\n",
              "</style>\n",
              "<table border=\"1\" class=\"dataframe\">\n",
              "  <thead>\n",
              "    <tr style=\"text-align: right;\">\n",
              "      <th></th>\n",
              "      <th>name</th>\n",
              "      <th>latitude</th>\n",
              "      <th>longitude</th>\n",
              "      <th>address</th>\n",
              "      <th>phone</th>\n",
              "      <th>website</th>\n",
              "    </tr>\n",
              "  </thead>\n",
              "  <tbody>\n",
              "    <tr>\n",
              "      <th>0</th>\n",
              "      <td>Alabaster</td>\n",
              "      <td>33.224225</td>\n",
              "      <td>-86.804174</td>\n",
              "      <td>250 S Colonial Dr, Alabaster, AL 35007-4657</td>\n",
              "      <td>205-564-2608</td>\n",
              "      <td>https://www.target.com/sl/alabaster/2276</td>\n",
              "    </tr>\n",
              "    <tr>\n",
              "      <th>1</th>\n",
              "      <td>Bessemer</td>\n",
              "      <td>33.334550</td>\n",
              "      <td>-86.989778</td>\n",
              "      <td>4889 Promenade Pkwy, Bessemer, AL 35022-7305</td>\n",
              "      <td>205-565-3760</td>\n",
              "      <td>https://www.target.com/sl/bessemer/2375</td>\n",
              "    </tr>\n",
              "    <tr>\n",
              "      <th>2</th>\n",
              "      <td>Daphne</td>\n",
              "      <td>30.602875</td>\n",
              "      <td>-87.895932</td>\n",
              "      <td>1698 US Highway 98, Daphne, AL 36526-4252</td>\n",
              "      <td>251-621-3540</td>\n",
              "      <td>https://www.target.com/sl/daphne/1274</td>\n",
              "    </tr>\n",
              "    <tr>\n",
              "      <th>3</th>\n",
              "      <td>Decatur</td>\n",
              "      <td>34.560148</td>\n",
              "      <td>-86.971559</td>\n",
              "      <td>1235 Point Mallard Pkwy SE, Decatur, AL 35601-...</td>\n",
              "      <td>256-898-3036</td>\n",
              "      <td>https://www.target.com/sl/decatur/2084</td>\n",
              "    </tr>\n",
              "    <tr>\n",
              "      <th>4</th>\n",
              "      <td>Dothan</td>\n",
              "      <td>31.266061</td>\n",
              "      <td>-85.446422</td>\n",
              "      <td>4601 Montgomery Hwy, Dothan, AL 36303-1522</td>\n",
              "      <td>334-340-1112</td>\n",
              "      <td>https://www.target.com/sl/dothan/1468</td>\n",
              "    </tr>\n",
              "  </tbody>\n",
              "</table>\n",
              "</div>\n",
              "      <button class=\"colab-df-convert\" onclick=\"convertToInteractive('df-50a5eb99-0c10-4cb5-8b3c-9a33f284def0')\"\n",
              "              title=\"Convert this dataframe to an interactive table.\"\n",
              "              style=\"display:none;\">\n",
              "        \n",
              "  <svg xmlns=\"http://www.w3.org/2000/svg\" height=\"24px\"viewBox=\"0 0 24 24\"\n",
              "       width=\"24px\">\n",
              "    <path d=\"M0 0h24v24H0V0z\" fill=\"none\"/>\n",
              "    <path d=\"M18.56 5.44l.94 2.06.94-2.06 2.06-.94-2.06-.94-.94-2.06-.94 2.06-2.06.94zm-11 1L8.5 8.5l.94-2.06 2.06-.94-2.06-.94L8.5 2.5l-.94 2.06-2.06.94zm10 10l.94 2.06.94-2.06 2.06-.94-2.06-.94-.94-2.06-.94 2.06-2.06.94z\"/><path d=\"M17.41 7.96l-1.37-1.37c-.4-.4-.92-.59-1.43-.59-.52 0-1.04.2-1.43.59L10.3 9.45l-7.72 7.72c-.78.78-.78 2.05 0 2.83L4 21.41c.39.39.9.59 1.41.59.51 0 1.02-.2 1.41-.59l7.78-7.78 2.81-2.81c.8-.78.8-2.07 0-2.86zM5.41 20L4 18.59l7.72-7.72 1.47 1.35L5.41 20z\"/>\n",
              "  </svg>\n",
              "      </button>\n",
              "      \n",
              "  <style>\n",
              "    .colab-df-container {\n",
              "      display:flex;\n",
              "      flex-wrap:wrap;\n",
              "      gap: 12px;\n",
              "    }\n",
              "\n",
              "    .colab-df-convert {\n",
              "      background-color: #E8F0FE;\n",
              "      border: none;\n",
              "      border-radius: 50%;\n",
              "      cursor: pointer;\n",
              "      display: none;\n",
              "      fill: #1967D2;\n",
              "      height: 32px;\n",
              "      padding: 0 0 0 0;\n",
              "      width: 32px;\n",
              "    }\n",
              "\n",
              "    .colab-df-convert:hover {\n",
              "      background-color: #E2EBFA;\n",
              "      box-shadow: 0px 1px 2px rgba(60, 64, 67, 0.3), 0px 1px 3px 1px rgba(60, 64, 67, 0.15);\n",
              "      fill: #174EA6;\n",
              "    }\n",
              "\n",
              "    [theme=dark] .colab-df-convert {\n",
              "      background-color: #3B4455;\n",
              "      fill: #D2E3FC;\n",
              "    }\n",
              "\n",
              "    [theme=dark] .colab-df-convert:hover {\n",
              "      background-color: #434B5C;\n",
              "      box-shadow: 0px 1px 3px 1px rgba(0, 0, 0, 0.15);\n",
              "      filter: drop-shadow(0px 1px 2px rgba(0, 0, 0, 0.3));\n",
              "      fill: #FFFFFF;\n",
              "    }\n",
              "  </style>\n",
              "\n",
              "      <script>\n",
              "        const buttonEl =\n",
              "          document.querySelector('#df-50a5eb99-0c10-4cb5-8b3c-9a33f284def0 button.colab-df-convert');\n",
              "        buttonEl.style.display =\n",
              "          google.colab.kernel.accessAllowed ? 'block' : 'none';\n",
              "\n",
              "        async function convertToInteractive(key) {\n",
              "          const element = document.querySelector('#df-50a5eb99-0c10-4cb5-8b3c-9a33f284def0');\n",
              "          const dataTable =\n",
              "            await google.colab.kernel.invokeFunction('convertToInteractive',\n",
              "                                                     [key], {});\n",
              "          if (!dataTable) return;\n",
              "\n",
              "          const docLinkHtml = 'Like what you see? Visit the ' +\n",
              "            '<a target=\"_blank\" href=https://colab.research.google.com/notebooks/data_table.ipynb>data table notebook</a>'\n",
              "            + ' to learn more about interactive tables.';\n",
              "          element.innerHTML = '';\n",
              "          dataTable['output_type'] = 'display_data';\n",
              "          await google.colab.output.renderOutput(dataTable, element);\n",
              "          const docLink = document.createElement('div');\n",
              "          docLink.innerHTML = docLinkHtml;\n",
              "          element.appendChild(docLink);\n",
              "        }\n",
              "      </script>\n",
              "    </div>\n",
              "  </div>\n",
              "  "
            ]
          },
          "metadata": {},
          "execution_count": 4
        }
      ]
    },
    {
      "cell_type": "code",
      "source": [
        "df.info()"
      ],
      "metadata": {
        "colab": {
          "base_uri": "https://localhost:8080/"
        },
        "id": "MxbhdLkavl7Q",
        "outputId": "74522251-f947-4eca-a248-7d7e52c98f35"
      },
      "execution_count": 5,
      "outputs": [
        {
          "output_type": "stream",
          "name": "stdout",
          "text": [
            "<class 'pandas.core.frame.DataFrame'>\n",
            "RangeIndex: 1839 entries, 0 to 1838\n",
            "Data columns (total 6 columns):\n",
            " #   Column     Non-Null Count  Dtype  \n",
            "---  ------     --------------  -----  \n",
            " 0   name       1839 non-null   object \n",
            " 1   latitude   1839 non-null   float64\n",
            " 2   longitude  1839 non-null   float64\n",
            " 3   address    1839 non-null   object \n",
            " 4   phone      1839 non-null   object \n",
            " 5   website    1839 non-null   object \n",
            "dtypes: float64(2), object(4)\n",
            "memory usage: 86.3+ KB\n"
          ]
        }
      ]
    },
    {
      "cell_type": "markdown",
      "source": [
        "**Definición de Latitud y Longitud**\n",
        "\n",
        "**Latitud** Es la distancia en grados, minutos y segundos que hay con respecto al paralelo principal, que es el ecuador (0º). La latitud puede ser norte y sur.\n",
        "\n",
        "**Longitud**: Es la distancia en grados, minutos y segundos que hay con respecto al meridiano principal, que es el meridiano de Greenwich (0º).La longitud puede ser este y oeste."
      ],
      "metadata": {
        "id": "cpfqKT4qxAZz"
      }
    },
    {
      "cell_type": "code",
      "source": [
        "latlong=df[[\"latitude\",\"longitude\"]]"
      ],
      "metadata": {
        "id": "oPzX3DGju0As"
      },
      "execution_count": 6,
      "outputs": []
    },
    {
      "cell_type": "code",
      "source": [],
      "metadata": {
        "id": "n4QKgxn4e6V0"
      },
      "execution_count": 6,
      "outputs": []
    },
    {
      "cell_type": "markdown",
      "source": [
        "¡Visualizemos los datos!, para empezar a notar algún patron. \n",
        "\n",
        "A simple vista pudieramos pensar que tenemos algunos datos atípicos u outliers, pero .... no es así, simplemente esta grafica no nos está dando toda la información."
      ],
      "metadata": {
        "id": "gMk6UVE2e67y"
      }
    },
    {
      "cell_type": "code",
      "source": [
        "#extrae los datos interesantes\n",
        "latlong.plot.scatter( \"longitude\",\"latitude\")"
      ],
      "metadata": {
        "colab": {
          "base_uri": "https://localhost:8080/",
          "height": 296
        },
        "id": "-QZRqKiDfj2J",
        "outputId": "2d4ba2e7-6a5e-4b27-afff-39788154194f"
      },
      "execution_count": 7,
      "outputs": [
        {
          "output_type": "execute_result",
          "data": {
            "text/plain": [
              "<matplotlib.axes._subplots.AxesSubplot at 0x7f81becef610>"
            ]
          },
          "metadata": {},
          "execution_count": 7
        },
        {
          "output_type": "display_data",
          "data": {
            "text/plain": [
              "<Figure size 432x288 with 1 Axes>"
            ],
            "image/png": "[encoded data removed]"
          },
          "metadata": {
            "needs_background": "light"
          }
        }
      ]
    },
    {
      "cell_type": "code",
      "source": [
        "latlong.describe()"
      ],
      "metadata": {
        "colab": {
          "base_uri": "https://localhost:8080/",
          "height": 300
        },
        "id": "O6b3QguyyjM_",
        "outputId": "007dc5d3-7de0-4f79-a163-72bb8dff98e0"
      },
      "execution_count": 8,
      "outputs": [
        {
          "output_type": "execute_result",
          "data": {
            "text/plain": [
              "          latitude    longitude\n",
              "count  1839.000000  1839.000000\n",
              "mean     37.791238   -91.986881\n",
              "std       5.272299    16.108046\n",
              "min      19.647855  -159.376962\n",
              "25%      33.882605   -98.268828\n",
              "50%      38.955432   -87.746346\n",
              "75%      41.658341   -80.084833\n",
              "max      61.577919   -68.742331"
            ],
            "text/html": [
              "\n",
              "  <div id=\"df-4834928f-ccea-4d36-9199-401760f597a2\">\n",
              "    <div class=\"colab-df-container\">\n",
              "      <div>\n",
              "<style scoped>\n",
              "    .dataframe tbody tr th:only-of-type {\n",
              "        vertical-align: middle;\n",
              "    }\n",
              "\n",
              "    .dataframe tbody tr th {\n",
              "        vertical-align: top;\n",
              "    }\n",
              "\n",
              "    .dataframe thead th {\n",
              "        text-align: right;\n",
              "    }\n",
              "</style>\n",
              "<table border=\"1\" class=\"dataframe\">\n",
              "  <thead>\n",
              "    <tr style=\"text-align: right;\">\n",
              "      <th></th>\n",
              "      <th>latitude</th>\n",
              "      <th>longitude</th>\n",
              "    </tr>\n",
              "  </thead>\n",
              "  <tbody>\n",
              "    <tr>\n",
              "      <th>count</th>\n",
              "      <td>1839.000000</td>\n",
              "      <td>1839.000000</td>\n",
              "    </tr>\n",
              "    <tr>\n",
              "      <th>mean</th>\n",
              "      <td>37.791238</td>\n",
              "      <td>-91.986881</td>\n",
              "    </tr>\n",
              "    <tr>\n",
              "      <th>std</th>\n",
              "      <td>5.272299</td>\n",
              "      <td>16.108046</td>\n",
              "    </tr>\n",
              "    <tr>\n",
              "      <th>min</th>\n",
              "      <td>19.647855</td>\n",
              "      <td>-159.376962</td>\n",
              "    </tr>\n",
              "    <tr>\n",
              "      <th>25%</th>\n",
              "      <td>33.882605</td>\n",
              "      <td>-98.268828</td>\n",
              "    </tr>\n",
              "    <tr>\n",
              "      <th>50%</th>\n",
              "      <td>38.955432</td>\n",
              "      <td>-87.746346</td>\n",
              "    </tr>\n",
              "    <tr>\n",
              "      <th>75%</th>\n",
              "      <td>41.658341</td>\n",
              "      <td>-80.084833</td>\n",
              "    </tr>\n",
              "    <tr>\n",
              "      <th>max</th>\n",
              "      <td>61.577919</td>\n",
              "      <td>-68.742331</td>\n",
              "    </tr>\n",
              "  </tbody>\n",
              "</table>\n",
              "</div>\n",
              "      <button class=\"colab-df-convert\" onclick=\"convertToInteractive('df-4834928f-ccea-4d36-9199-401760f597a2')\"\n",
              "              title=\"Convert this dataframe to an interactive table.\"\n",
              "              style=\"display:none;\">\n",
              "        \n",
              "  <svg xmlns=\"http://www.w3.org/2000/svg\" height=\"24px\"viewBox=\"0 0 24 24\"\n",
              "       width=\"24px\">\n",
              "    <path d=\"M0 0h24v24H0V0z\" fill=\"none\"/>\n",
              "    <path d=\"M18.56 5.44l.94 2.06.94-2.06 2.06-.94-2.06-.94-.94-2.06-.94 2.06-2.06.94zm-11 1L8.5 8.5l.94-2.06 2.06-.94-2.06-.94L8.5 2.5l-.94 2.06-2.06.94zm10 10l.94 2.06.94-2.06 2.06-.94-2.06-.94-.94-2.06-.94 2.06-2.06.94z\"/><path d=\"M17.41 7.96l-1.37-1.37c-.4-.4-.92-.59-1.43-.59-.52 0-1.04.2-1.43.59L10.3 9.45l-7.72 7.72c-.78.78-.78 2.05 0 2.83L4 21.41c.39.39.9.59 1.41.59.51 0 1.02-.2 1.41-.59l7.78-7.78 2.81-2.81c.8-.78.8-2.07 0-2.86zM5.41 20L4 18.59l7.72-7.72 1.47 1.35L5.41 20z\"/>\n",
              "  </svg>\n",
              "      </button>\n",
              "      \n",
              "  <style>\n",
              "    .colab-df-container {\n",
              "      display:flex;\n",
              "      flex-wrap:wrap;\n",
              "      gap: 12px;\n",
              "    }\n",
              "\n",
              "    .colab-df-convert {\n",
              "      background-color: #E8F0FE;\n",
              "      border: none;\n",
              "      border-radius: 50%;\n",
              "      cursor: pointer;\n",
              "      display: none;\n",
              "      fill: #1967D2;\n",
              "      height: 32px;\n",
              "      padding: 0 0 0 0;\n",
              "      width: 32px;\n",
              "    }\n",
              "\n",
              "    .colab-df-convert:hover {\n",
              "      background-color: #E2EBFA;\n",
              "      box-shadow: 0px 1px 2px rgba(60, 64, 67, 0.3), 0px 1px 3px 1px rgba(60, 64, 67, 0.15);\n",
              "      fill: #174EA6;\n",
              "    }\n",
              "\n",
              "    [theme=dark] .colab-df-convert {\n",
              "      background-color: #3B4455;\n",
              "      fill: #D2E3FC;\n",
              "    }\n",
              "\n",
              "    [theme=dark] .colab-df-convert:hover {\n",
              "      background-color: #434B5C;\n",
              "      box-shadow: 0px 1px 3px 1px rgba(0, 0, 0, 0.15);\n",
              "      filter: drop-shadow(0px 1px 2px rgba(0, 0, 0, 0.3));\n",
              "      fill: #FFFFFF;\n",
              "    }\n",
              "  </style>\n",
              "\n",
              "      <script>\n",
              "        const buttonEl =\n",
              "          document.querySelector('#df-4834928f-ccea-4d36-9199-401760f597a2 button.colab-df-convert');\n",
              "        buttonEl.style.display =\n",
              "          google.colab.kernel.accessAllowed ? 'block' : 'none';\n",
              "\n",
              "        async function convertToInteractive(key) {\n",
              "          const element = document.querySelector('#df-4834928f-ccea-4d36-9199-401760f597a2');\n",
              "          const dataTable =\n",
              "            await google.colab.kernel.invokeFunction('convertToInteractive',\n",
              "                                                     [key], {});\n",
              "          if (!dataTable) return;\n",
              "\n",
              "          const docLinkHtml = 'Like what you see? Visit the ' +\n",
              "            '<a target=\"_blank\" href=https://colab.research.google.com/notebooks/data_table.ipynb>data table notebook</a>'\n",
              "            + ' to learn more about interactive tables.';\n",
              "          element.innerHTML = '';\n",
              "          dataTable['output_type'] = 'display_data';\n",
              "          await google.colab.output.renderOutput(dataTable, element);\n",
              "          const docLink = document.createElement('div');\n",
              "          docLink.innerHTML = docLinkHtml;\n",
              "          element.appendChild(docLink);\n",
              "        }\n",
              "      </script>\n",
              "    </div>\n",
              "  </div>\n",
              "  "
            ]
          },
          "metadata": {},
          "execution_count": 8
        }
      ]
    },
    {
      "cell_type": "markdown",
      "source": [
        "Para entender un poco más, nos auxiliaremos de una librería para graficar datos geográficos. Esto nos ayudara a tener un mejor entendimiento de ellos.\n",
        "\n",
        "\n"
      ],
      "metadata": {
        "id": "hkPMyAyIDunz"
      }
    },
    {
      "cell_type": "code",
      "source": [
        "import geopandas as gpd\n",
        "import matplotlib.pyplot as plt\n",
        "import pandas as pd\n",
        "\n",
        "from shapely.geometry import Point\n",
        "\n",
        "%matplotlib inline\n",
        "# activate plot theme\n",
        "import qeds\n",
        "qeds.themes.mpl_style();"
      ],
      "metadata": {
        "id": "_blyM4esyJTu"
      },
      "execution_count": 9,
      "outputs": []
    },
    {
      "cell_type": "code",
      "source": [
        "df[\"Coordinates\"] = list(zip(df.longitude, df.latitude))\n",
        "df[\"Coordinates\"] = df[\"Coordinates\"].apply(Point)\n",
        "df.head()"
      ],
      "metadata": {
        "colab": {
          "base_uri": "https://localhost:8080/",
          "height": 206
        },
        "id": "01i0TciKfPco",
        "outputId": "6782557f-7542-4610-831e-eea3122512d9"
      },
      "execution_count": 10,
      "outputs": [
        {
          "output_type": "execute_result",
          "data": {
            "text/plain": [
              "        name   latitude  longitude  \\\n",
              "0  Alabaster  33.224225 -86.804174   \n",
              "1   Bessemer  33.334550 -86.989778   \n",
              "2     Daphne  30.602875 -87.895932   \n",
              "3    Decatur  34.560148 -86.971559   \n",
              "4     Dothan  31.266061 -85.446422   \n",
              "\n",
              "                                             address         phone  \\\n",
              "0        250 S Colonial Dr, Alabaster, AL 35007-4657  205-564-2608   \n",
              "1       4889 Promenade Pkwy, Bessemer, AL 35022-7305  205-565-3760   \n",
              "2          1698 US Highway 98, Daphne, AL 36526-4252  251-621-3540   \n",
              "3  1235 Point Mallard Pkwy SE, Decatur, AL 35601-...  256-898-3036   \n",
              "4         4601 Montgomery Hwy, Dothan, AL 36303-1522  334-340-1112   \n",
              "\n",
              "                                    website  \\\n",
              "0  https://www.target.com/sl/alabaster/2276   \n",
              "1   https://www.target.com/sl/bessemer/2375   \n",
              "2     https://www.target.com/sl/daphne/1274   \n",
              "3    https://www.target.com/sl/decatur/2084   \n",
              "4     https://www.target.com/sl/dothan/1468   \n",
              "\n",
              "                             Coordinates  \n",
              "0  POINT (-86.80417369999999 33.2242254)  \n",
              "1  POINT (-86.98977789999999 33.3345501)  \n",
              "2  POINT (-87.89593169999999 30.6028747)  \n",
              "3         POINT (-86.9715595 34.5601477)  \n",
              "4         POINT (-85.4464222 31.2660613)  "
            ],
            "text/html": [
              "\n",
              "  <div id=\"df-ec878a84-2a62-49c5-9347-d376770fb088\">\n",
              "    <div class=\"colab-df-container\">\n",
              "      <div>\n",
              "<style scoped>\n",
              "    .dataframe tbody tr th:only-of-type {\n",
              "        vertical-align: middle;\n",
              "    }\n",
              "\n",
              "    .dataframe tbody tr th {\n",
              "        vertical-align: top;\n",
              "    }\n",
              "\n",
              "    .dataframe thead th {\n",
              "        text-align: right;\n",
              "    }\n",
              "</style>\n",
              "<table border=\"1\" class=\"dataframe\">\n",
              "  <thead>\n",
              "    <tr style=\"text-align: right;\">\n",
              "      <th></th>\n",
              "      <th>name</th>\n",
              "      <th>latitude</th>\n",
              "      <th>longitude</th>\n",
              "      <th>address</th>\n",
              "      <th>phone</th>\n",
              "      <th>website</th>\n",
              "      <th>Coordinates</th>\n",
              "    </tr>\n",
              "  </thead>\n",
              "  <tbody>\n",
              "    <tr>\n",
              "      <th>0</th>\n",
              "      <td>Alabaster</td>\n",
              "      <td>33.224225</td>\n",
              "      <td>-86.804174</td>\n",
              "      <td>250 S Colonial Dr, Alabaster, AL 35007-4657</td>\n",
              "      <td>205-564-2608</td>\n",
              "      <td>https://www.target.com/sl/alabaster/2276</td>\n",
              "      <td>POINT (-86.80417369999999 33.2242254)</td>\n",
              "    </tr>\n",
              "    <tr>\n",
              "      <th>1</th>\n",
              "      <td>Bessemer</td>\n",
              "      <td>33.334550</td>\n",
              "      <td>-86.989778</td>\n",
              "      <td>4889 Promenade Pkwy, Bessemer, AL 35022-7305</td>\n",
              "      <td>205-565-3760</td>\n",
              "      <td>https://www.target.com/sl/bessemer/2375</td>\n",
              "      <td>POINT (-86.98977789999999 33.3345501)</td>\n",
              "    </tr>\n",
              "    <tr>\n",
              "      <th>2</th>\n",
              "      <td>Daphne</td>\n",
              "      <td>30.602875</td>\n",
              "      <td>-87.895932</td>\n",
              "      <td>1698 US Highway 98, Daphne, AL 36526-4252</td>\n",
              "      <td>251-621-3540</td>\n",
              "      <td>https://www.target.com/sl/daphne/1274</td>\n",
              "      <td>POINT (-87.89593169999999 30.6028747)</td>\n",
              "    </tr>\n",
              "    <tr>\n",
              "      <th>3</th>\n",
              "      <td>Decatur</td>\n",
              "      <td>34.560148</td>\n",
              "      <td>-86.971559</td>\n",
              "      <td>1235 Point Mallard Pkwy SE, Decatur, AL 35601-...</td>\n",
              "      <td>256-898-3036</td>\n",
              "      <td>https://www.target.com/sl/decatur/2084</td>\n",
              "      <td>POINT (-86.9715595 34.5601477)</td>\n",
              "    </tr>\n",
              "    <tr>\n",
              "      <th>4</th>\n",
              "      <td>Dothan</td>\n",
              "      <td>31.266061</td>\n",
              "      <td>-85.446422</td>\n",
              "      <td>4601 Montgomery Hwy, Dothan, AL 36303-1522</td>\n",
              "      <td>334-340-1112</td>\n",
              "      <td>https://www.target.com/sl/dothan/1468</td>\n",
              "      <td>POINT (-85.4464222 31.2660613)</td>\n",
              "    </tr>\n",
              "  </tbody>\n",
              "</table>\n",
              "</div>\n",
              "      <button class=\"colab-df-convert\" onclick=\"convertToInteractive('df-ec878a84-2a62-49c5-9347-d376770fb088')\"\n",
              "              title=\"Convert this dataframe to an interactive table.\"\n",
              "              style=\"display:none;\">\n",
              "        \n",
              "  <svg xmlns=\"http://www.w3.org/2000/svg\" height=\"24px\"viewBox=\"0 0 24 24\"\n",
              "       width=\"24px\">\n",
              "    <path d=\"M0 0h24v24H0V0z\" fill=\"none\"/>\n",
              "    <path d=\"M18.56 5.44l.94 2.06.94-2.06 2.06-.94-2.06-.94-.94-2.06-.94 2.06-2.06.94zm-11 1L8.5 8.5l.94-2.06 2.06-.94-2.06-.94L8.5 2.5l-.94 2.06-2.06.94zm10 10l.94 2.06.94-2.06 2.06-.94-2.06-.94-.94-2.06-.94 2.06-2.06.94z\"/><path d=\"M17.41 7.96l-1.37-1.37c-.4-.4-.92-.59-1.43-.59-.52 0-1.04.2-1.43.59L10.3 9.45l-7.72 7.72c-.78.78-.78 2.05 0 2.83L4 21.41c.39.39.9.59 1.41.59.51 0 1.02-.2 1.41-.59l7.78-7.78 2.81-2.81c.8-.78.8-2.07 0-2.86zM5.41 20L4 18.59l7.72-7.72 1.47 1.35L5.41 20z\"/>\n",
              "  </svg>\n",
              "      </button>\n",
              "      \n",
              "  <style>\n",
              "    .colab-df-container {\n",
              "      display:flex;\n",
              "      flex-wrap:wrap;\n",
              "      gap: 12px;\n",
              "    }\n",
              "\n",
              "    .colab-df-convert {\n",
              "      background-color: #E8F0FE;\n",
              "      border: none;\n",
              "      border-radius: 50%;\n",
              "      cursor: pointer;\n",
              "      display: none;\n",
              "      fill: #1967D2;\n",
              "      height: 32px;\n",
              "      padding: 0 0 0 0;\n",
              "      width: 32px;\n",
              "    }\n",
              "\n",
              "    .colab-df-convert:hover {\n",
              "      background-color: #E2EBFA;\n",
              "      box-shadow: 0px 1px 2px rgba(60, 64, 67, 0.3), 0px 1px 3px 1px rgba(60, 64, 67, 0.15);\n",
              "      fill: #174EA6;\n",
              "    }\n",
              "\n",
              "    [theme=dark] .colab-df-convert {\n",
              "      background-color: #3B4455;\n",
              "      fill: #D2E3FC;\n",
              "    }\n",
              "\n",
              "    [theme=dark] .colab-df-convert:hover {\n",
              "      background-color: #434B5C;\n",
              "      box-shadow: 0px 1px 3px 1px rgba(0, 0, 0, 0.15);\n",
              "      filter: drop-shadow(0px 1px 2px rgba(0, 0, 0, 0.3));\n",
              "      fill: #FFFFFF;\n",
              "    }\n",
              "  </style>\n",
              "\n",
              "      <script>\n",
              "        const buttonEl =\n",
              "          document.querySelector('#df-ec878a84-2a62-49c5-9347-d376770fb088 button.colab-df-convert');\n",
              "        buttonEl.style.display =\n",
              "          google.colab.kernel.accessAllowed ? 'block' : 'none';\n",
              "\n",
              "        async function convertToInteractive(key) {\n",
              "          const element = document.querySelector('#df-ec878a84-2a62-49c5-9347-d376770fb088');\n",
              "          const dataTable =\n",
              "            await google.colab.kernel.invokeFunction('convertToInteractive',\n",
              "                                                     [key], {});\n",
              "          if (!dataTable) return;\n",
              "\n",
              "          const docLinkHtml = 'Like what you see? Visit the ' +\n",
              "            '<a target=\"_blank\" href=https://colab.research.google.com/notebooks/data_table.ipynb>data table notebook</a>'\n",
              "            + ' to learn more about interactive tables.';\n",
              "          element.innerHTML = '';\n",
              "          dataTable['output_type'] = 'display_data';\n",
              "          await google.colab.output.renderOutput(dataTable, element);\n",
              "          const docLink = document.createElement('div');\n",
              "          docLink.innerHTML = docLinkHtml;\n",
              "          element.appendChild(docLink);\n",
              "        }\n",
              "      </script>\n",
              "    </div>\n",
              "  </div>\n",
              "  "
            ]
          },
          "metadata": {},
          "execution_count": 10
        }
      ]
    },
    {
      "cell_type": "code",
      "source": [
        "gdf = gpd.GeoDataFrame(df, geometry=\"Coordinates\")\n",
        "gdf.head()"
      ],
      "metadata": {
        "colab": {
          "base_uri": "https://localhost:8080/",
          "height": 206
        },
        "id": "SBTBrsvlfIU_",
        "outputId": "8897202f-f361-4cde-aebf-cef1ac04dba1"
      },
      "execution_count": 11,
      "outputs": [
        {
          "output_type": "execute_result",
          "data": {
            "text/plain": [
              "        name   latitude  longitude  \\\n",
              "0  Alabaster  33.224225 -86.804174   \n",
              "1   Bessemer  33.334550 -86.989778   \n",
              "2     Daphne  30.602875 -87.895932   \n",
              "3    Decatur  34.560148 -86.971559   \n",
              "4     Dothan  31.266061 -85.446422   \n",
              "\n",
              "                                             address         phone  \\\n",
              "0        250 S Colonial Dr, Alabaster, AL 35007-4657  205-564-2608   \n",
              "1       4889 Promenade Pkwy, Bessemer, AL 35022-7305  205-565-3760   \n",
              "2          1698 US Highway 98, Daphne, AL 36526-4252  251-621-3540   \n",
              "3  1235 Point Mallard Pkwy SE, Decatur, AL 35601-...  256-898-3036   \n",
              "4         4601 Montgomery Hwy, Dothan, AL 36303-1522  334-340-1112   \n",
              "\n",
              "                                    website                 Coordinates  \n",
              "0  https://www.target.com/sl/alabaster/2276  POINT (-86.80417 33.22423)  \n",
              "1   https://www.target.com/sl/bessemer/2375  POINT (-86.98978 33.33455)  \n",
              "2     https://www.target.com/sl/daphne/1274  POINT (-87.89593 30.60287)  \n",
              "3    https://www.target.com/sl/decatur/2084  POINT (-86.97156 34.56015)  \n",
              "4     https://www.target.com/sl/dothan/1468  POINT (-85.44642 31.26606)  "
            ],
            "text/html": [
              "\n",
              "  <div id=\"df-8c222cd8-22ca-4f05-9593-cacb57a94a7b\">\n",
              "    <div class=\"colab-df-container\">\n",
              "      <div>\n",
              "<style scoped>\n",
              "    .dataframe tbody tr th:only-of-type {\n",
              "        vertical-align: middle;\n",
              "    }\n",
              "\n",
              "    .dataframe tbody tr th {\n",
              "        vertical-align: top;\n",
              "    }\n",
              "\n",
              "    .dataframe thead th {\n",
              "        text-align: right;\n",
              "    }\n",
              "</style>\n",
              "<table border=\"1\" class=\"dataframe\">\n",
              "  <thead>\n",
              "    <tr style=\"text-align: right;\">\n",
              "      <th></th>\n",
              "      <th>name</th>\n",
              "      <th>latitude</th>\n",
              "      <th>longitude</th>\n",
              "      <th>address</th>\n",
              "      <th>phone</th>\n",
              "      <th>website</th>\n",
              "      <th>Coordinates</th>\n",
              "    </tr>\n",
              "  </thead>\n",
              "  <tbody>\n",
              "    <tr>\n",
              "      <th>0</th>\n",
              "      <td>Alabaster</td>\n",
              "      <td>33.224225</td>\n",
              "      <td>-86.804174</td>\n",
              "      <td>250 S Colonial Dr, Alabaster, AL 35007-4657</td>\n",
              "      <td>205-564-2608</td>\n",
              "      <td>https://www.target.com/sl/alabaster/2276</td>\n",
              "      <td>POINT (-86.80417 33.22423)</td>\n",
              "    </tr>\n",
              "    <tr>\n",
              "      <th>1</th>\n",
              "      <td>Bessemer</td>\n",
              "      <td>33.334550</td>\n",
              "      <td>-86.989778</td>\n",
              "      <td>4889 Promenade Pkwy, Bessemer, AL 35022-7305</td>\n",
              "      <td>205-565-3760</td>\n",
              "      <td>https://www.target.com/sl/bessemer/2375</td>\n",
              "      <td>POINT (-86.98978 33.33455)</td>\n",
              "    </tr>\n",
              "    <tr>\n",
              "      <th>2</th>\n",
              "      <td>Daphne</td>\n",
              "      <td>30.602875</td>\n",
              "      <td>-87.895932</td>\n",
              "      <td>1698 US Highway 98, Daphne, AL 36526-4252</td>\n",
              "      <td>251-621-3540</td>\n",
              "      <td>https://www.target.com/sl/daphne/1274</td>\n",
              "      <td>POINT (-87.89593 30.60287)</td>\n",
              "    </tr>\n",
              "    <tr>\n",
              "      <th>3</th>\n",
              "      <td>Decatur</td>\n",
              "      <td>34.560148</td>\n",
              "      <td>-86.971559</td>\n",
              "      <td>1235 Point Mallard Pkwy SE, Decatur, AL 35601-...</td>\n",
              "      <td>256-898-3036</td>\n",
              "      <td>https://www.target.com/sl/decatur/2084</td>\n",
              "      <td>POINT (-86.97156 34.56015)</td>\n",
              "    </tr>\n",
              "    <tr>\n",
              "      <th>4</th>\n",
              "      <td>Dothan</td>\n",
              "      <td>31.266061</td>\n",
              "      <td>-85.446422</td>\n",
              "      <td>4601 Montgomery Hwy, Dothan, AL 36303-1522</td>\n",
              "      <td>334-340-1112</td>\n",
              "      <td>https://www.target.com/sl/dothan/1468</td>\n",
              "      <td>POINT (-85.44642 31.26606)</td>\n",
              "    </tr>\n",
              "  </tbody>\n",
              "</table>\n",
              "</div>\n",
              "      <button class=\"colab-df-convert\" onclick=\"convertToInteractive('df-8c222cd8-22ca-4f05-9593-cacb57a94a7b')\"\n",
              "              title=\"Convert this dataframe to an interactive table.\"\n",
              "              style=\"display:none;\">\n",
              "        \n",
              "  <svg xmlns=\"http://www.w3.org/2000/svg\" height=\"24px\"viewBox=\"0 0 24 24\"\n",
              "       width=\"24px\">\n",
              "    <path d=\"M0 0h24v24H0V0z\" fill=\"none\"/>\n",
              "    <path d=\"M18.56 5.44l.94 2.06.94-2.06 2.06-.94-2.06-.94-.94-2.06-.94 2.06-2.06.94zm-11 1L8.5 8.5l.94-2.06 2.06-.94-2.06-.94L8.5 2.5l-.94 2.06-2.06.94zm10 10l.94 2.06.94-2.06 2.06-.94-2.06-.94-.94-2.06-.94 2.06-2.06.94z\"/><path d=\"M17.41 7.96l-1.37-1.37c-.4-.4-.92-.59-1.43-.59-.52 0-1.04.2-1.43.59L10.3 9.45l-7.72 7.72c-.78.78-.78 2.05 0 2.83L4 21.41c.39.39.9.59 1.41.59.51 0 1.02-.2 1.41-.59l7.78-7.78 2.81-2.81c.8-.78.8-2.07 0-2.86zM5.41 20L4 18.59l7.72-7.72 1.47 1.35L5.41 20z\"/>\n",
              "  </svg>\n",
              "      </button>\n",
              "      \n",
              "  <style>\n",
              "    .colab-df-container {\n",
              "      display:flex;\n",
              "      flex-wrap:wrap;\n",
              "      gap: 12px;\n",
              "    }\n",
              "\n",
              "    .colab-df-convert {\n",
              "      background-color: #E8F0FE;\n",
              "      border: none;\n",
              "      border-radius: 50%;\n",
              "      cursor: pointer;\n",
              "      display: none;\n",
              "      fill: #1967D2;\n",
              "      height: 32px;\n",
              "      padding: 0 0 0 0;\n",
              "      width: 32px;\n",
              "    }\n",
              "\n",
              "    .colab-df-convert:hover {\n",
              "      background-color: #E2EBFA;\n",
              "      box-shadow: 0px 1px 2px rgba(60, 64, 67, 0.3), 0px 1px 3px 1px rgba(60, 64, 67, 0.15);\n",
              "      fill: #174EA6;\n",
              "    }\n",
              "\n",
              "    [theme=dark] .colab-df-convert {\n",
              "      background-color: #3B4455;\n",
              "      fill: #D2E3FC;\n",
              "    }\n",
              "\n",
              "    [theme=dark] .colab-df-convert:hover {\n",
              "      background-color: #434B5C;\n",
              "      box-shadow: 0px 1px 3px 1px rgba(0, 0, 0, 0.15);\n",
              "      filter: drop-shadow(0px 1px 2px rgba(0, 0, 0, 0.3));\n",
              "      fill: #FFFFFF;\n",
              "    }\n",
              "  </style>\n",
              "\n",
              "      <script>\n",
              "        const buttonEl =\n",
              "          document.querySelector('#df-8c222cd8-22ca-4f05-9593-cacb57a94a7b button.colab-df-convert');\n",
              "        buttonEl.style.display =\n",
              "          google.colab.kernel.accessAllowed ? 'block' : 'none';\n",
              "\n",
              "        async function convertToInteractive(key) {\n",
              "          const element = document.querySelector('#df-8c222cd8-22ca-4f05-9593-cacb57a94a7b');\n",
              "          const dataTable =\n",
              "            await google.colab.kernel.invokeFunction('convertToInteractive',\n",
              "                                                     [key], {});\n",
              "          if (!dataTable) return;\n",
              "\n",
              "          const docLinkHtml = 'Like what you see? Visit the ' +\n",
              "            '<a target=\"_blank\" href=https://colab.research.google.com/notebooks/data_table.ipynb>data table notebook</a>'\n",
              "            + ' to learn more about interactive tables.';\n",
              "          element.innerHTML = '';\n",
              "          dataTable['output_type'] = 'display_data';\n",
              "          await google.colab.output.renderOutput(dataTable, element);\n",
              "          const docLink = document.createElement('div');\n",
              "          docLink.innerHTML = docLinkHtml;\n",
              "          element.appendChild(docLink);\n",
              "        }\n",
              "      </script>\n",
              "    </div>\n",
              "  </div>\n",
              "  "
            ]
          },
          "metadata": {},
          "execution_count": 11
        }
      ]
    },
    {
      "cell_type": "code",
      "source": [
        "#mapa\n",
        "\n",
        "world = gpd.read_file(gpd.datasets.get_path(\"naturalearth_lowres\"))\n",
        "world = world.set_index(\"iso_a3\")\n",
        "\n",
        "world.head()"
      ],
      "metadata": {
        "colab": {
          "base_uri": "https://localhost:8080/",
          "height": 237
        },
        "id": "wB6Jkrvbfef1",
        "outputId": "649d5e25-d4bd-4aaf-d05a-9b7554233cec"
      },
      "execution_count": 12,
      "outputs": [
        {
          "output_type": "execute_result",
          "data": {
            "text/plain": [
              "          pop_est      continent                      name  gdp_md_est  \\\n",
              "iso_a3                                                                   \n",
              "FJI        920938        Oceania                      Fiji      8374.0   \n",
              "TZA      53950935         Africa                  Tanzania    150600.0   \n",
              "ESH        603253         Africa                 W. Sahara       906.5   \n",
              "CAN      35623680  North America                    Canada   1674000.0   \n",
              "USA     326625791  North America  United States of America  18560000.0   \n",
              "\n",
              "                                                 geometry  \n",
              "iso_a3                                                     \n",
              "FJI     MULTIPOLYGON (((180.00000 -16.06713, 180.00000...  \n",
              "TZA     POLYGON ((33.90371 -0.95000, 34.07262 -1.05982...  \n",
              "ESH     POLYGON ((-8.66559 27.65643, -8.66512 27.58948...  \n",
              "CAN     MULTIPOLYGON (((-122.84000 49.00000, -122.9742...  \n",
              "USA     MULTIPOLYGON (((-122.84000 49.00000, -120.0000...  "
            ],
            "text/html": [
              "\n",
              "  <div id=\"df-99bd3ab2-a6d0-4b89-a6dd-90a6b4deae3e\">\n",
              "    <div class=\"colab-df-container\">\n",
              "      <div>\n",
              "<style scoped>\n",
              "    .dataframe tbody tr th:only-of-type {\n",
              "        vertical-align: middle;\n",
              "    }\n",
              "\n",
              "    .dataframe tbody tr th {\n",
              "        vertical-align: top;\n",
              "    }\n",
              "\n",
              "    .dataframe thead th {\n",
              "        text-align: right;\n",
              "    }\n",
              "</style>\n",
              "<table border=\"1\" class=\"dataframe\">\n",
              "  <thead>\n",
              "    <tr style=\"text-align: right;\">\n",
              "      <th></th>\n",
              "      <th>pop_est</th>\n",
              "      <th>continent</th>\n",
              "      <th>name</th>\n",
              "      <th>gdp_md_est</th>\n",
              "      <th>geometry</th>\n",
              "    </tr>\n",
              "    <tr>\n",
              "      <th>iso_a3</th>\n",
              "      <th></th>\n",
              "      <th></th>\n",
              "      <th></th>\n",
              "      <th></th>\n",
              "      <th></th>\n",
              "    </tr>\n",
              "  </thead>\n",
              "  <tbody>\n",
              "    <tr>\n",
              "      <th>FJI</th>\n",
              "      <td>920938</td>\n",
              "      <td>Oceania</td>\n",
              "      <td>Fiji</td>\n",
              "      <td>8374.0</td>\n",
              "      <td>MULTIPOLYGON (((180.00000 -16.06713, 180.00000...</td>\n",
              "    </tr>\n",
              "    <tr>\n",
              "      <th>TZA</th>\n",
              "      <td>53950935</td>\n",
              "      <td>Africa</td>\n",
              "      <td>Tanzania</td>\n",
              "      <td>150600.0</td>\n",
              "      <td>POLYGON ((33.90371 -0.95000, 34.07262 -1.05982...</td>\n",
              "    </tr>\n",
              "    <tr>\n",
              "      <th>ESH</th>\n",
              "      <td>603253</td>\n",
              "      <td>Africa</td>\n",
              "      <td>W. Sahara</td>\n",
              "      <td>906.5</td>\n",
              "      <td>POLYGON ((-8.66559 27.65643, -8.66512 27.58948...</td>\n",
              "    </tr>\n",
              "    <tr>\n",
              "      <th>CAN</th>\n",
              "      <td>35623680</td>\n",
              "      <td>North America</td>\n",
              "      <td>Canada</td>\n",
              "      <td>1674000.0</td>\n",
              "      <td>MULTIPOLYGON (((-122.84000 49.00000, -122.9742...</td>\n",
              "    </tr>\n",
              "    <tr>\n",
              "      <th>USA</th>\n",
              "      <td>326625791</td>\n",
              "      <td>North America</td>\n",
              "      <td>United States of America</td>\n",
              "      <td>18560000.0</td>\n",
              "      <td>MULTIPOLYGON (((-122.84000 49.00000, -120.0000...</td>\n",
              "    </tr>\n",
              "  </tbody>\n",
              "</table>\n",
              "</div>\n",
              "      <button class=\"colab-df-convert\" onclick=\"convertToInteractive('df-99bd3ab2-a6d0-4b89-a6dd-90a6b4deae3e')\"\n",
              "              title=\"Convert this dataframe to an interactive table.\"\n",
              "              style=\"display:none;\">\n",
              "        \n",
              "  <svg xmlns=\"http://www.w3.org/2000/svg\" height=\"24px\"viewBox=\"0 0 24 24\"\n",
              "       width=\"24px\">\n",
              "    <path d=\"M0 0h24v24H0V0z\" fill=\"none\"/>\n",
              "    <path d=\"M18.56 5.44l.94 2.06.94-2.06 2.06-.94-2.06-.94-.94-2.06-.94 2.06-2.06.94zm-11 1L8.5 8.5l.94-2.06 2.06-.94-2.06-.94L8.5 2.5l-.94 2.06-2.06.94zm10 10l.94 2.06.94-2.06 2.06-.94-2.06-.94-.94-2.06-.94 2.06-2.06.94z\"/><path d=\"M17.41 7.96l-1.37-1.37c-.4-.4-.92-.59-1.43-.59-.52 0-1.04.2-1.43.59L10.3 9.45l-7.72 7.72c-.78.78-.78 2.05 0 2.83L4 21.41c.39.39.9.59 1.41.59.51 0 1.02-.2 1.41-.59l7.78-7.78 2.81-2.81c.8-.78.8-2.07 0-2.86zM5.41 20L4 18.59l7.72-7.72 1.47 1.35L5.41 20z\"/>\n",
              "  </svg>\n",
              "      </button>\n",
              "      \n",
              "  <style>\n",
              "    .colab-df-container {\n",
              "      display:flex;\n",
              "      flex-wrap:wrap;\n",
              "      gap: 12px;\n",
              "    }\n",
              "\n",
              "    .colab-df-convert {\n",
              "      background-color: #E8F0FE;\n",
              "      border: none;\n",
              "      border-radius: 50%;\n",
              "      cursor: pointer;\n",
              "      display: none;\n",
              "      fill: #1967D2;\n",
              "      height: 32px;\n",
              "      padding: 0 0 0 0;\n",
              "      width: 32px;\n",
              "    }\n",
              "\n",
              "    .colab-df-convert:hover {\n",
              "      background-color: #E2EBFA;\n",
              "      box-shadow: 0px 1px 2px rgba(60, 64, 67, 0.3), 0px 1px 3px 1px rgba(60, 64, 67, 0.15);\n",
              "      fill: #174EA6;\n",
              "    }\n",
              "\n",
              "    [theme=dark] .colab-df-convert {\n",
              "      background-color: #3B4455;\n",
              "      fill: #D2E3FC;\n",
              "    }\n",
              "\n",
              "    [theme=dark] .colab-df-convert:hover {\n",
              "      background-color: #434B5C;\n",
              "      box-shadow: 0px 1px 3px 1px rgba(0, 0, 0, 0.15);\n",
              "      filter: drop-shadow(0px 1px 2px rgba(0, 0, 0, 0.3));\n",
              "      fill: #FFFFFF;\n",
              "    }\n",
              "  </style>\n",
              "\n",
              "      <script>\n",
              "        const buttonEl =\n",
              "          document.querySelector('#df-99bd3ab2-a6d0-4b89-a6dd-90a6b4deae3e button.colab-df-convert');\n",
              "        buttonEl.style.display =\n",
              "          google.colab.kernel.accessAllowed ? 'block' : 'none';\n",
              "\n",
              "        async function convertToInteractive(key) {\n",
              "          const element = document.querySelector('#df-99bd3ab2-a6d0-4b89-a6dd-90a6b4deae3e');\n",
              "          const dataTable =\n",
              "            await google.colab.kernel.invokeFunction('convertToInteractive',\n",
              "                                                     [key], {});\n",
              "          if (!dataTable) return;\n",
              "\n",
              "          const docLinkHtml = 'Like what you see? Visit the ' +\n",
              "            '<a target=\"_blank\" href=https://colab.research.google.com/notebooks/data_table.ipynb>data table notebook</a>'\n",
              "            + ' to learn more about interactive tables.';\n",
              "          element.innerHTML = '';\n",
              "          dataTable['output_type'] = 'display_data';\n",
              "          await google.colab.output.renderOutput(dataTable, element);\n",
              "          const docLink = document.createElement('div');\n",
              "          docLink.innerHTML = docLinkHtml;\n",
              "          element.appendChild(docLink);\n",
              "        }\n",
              "      </script>\n",
              "    </div>\n",
              "  </div>\n",
              "  "
            ]
          },
          "metadata": {},
          "execution_count": 12
        }
      ]
    },
    {
      "cell_type": "code",
      "source": [
        "#graficar el mapa\n",
        "world.name.unique()"
      ],
      "metadata": {
        "colab": {
          "base_uri": "https://localhost:8080/"
        },
        "id": "0qkBCMSUflw_",
        "outputId": "de48b724-a22c-42d0-f2b2-95e0b2c29ade"
      },
      "execution_count": 13,
      "outputs": [
        {
          "output_type": "execute_result",
          "data": {
            "text/plain": [
              "array(['Fiji', 'Tanzania', 'W. Sahara', 'Canada',\n",
              "       'United States of America', 'Kazakhstan', 'Uzbekistan',\n",
              "       'Papua New Guinea', 'Indonesia', 'Argentina', 'Chile',\n",
              "       'Dem. Rep. Congo', 'Somalia', 'Kenya', 'Sudan', 'Chad', 'Haiti',\n",
              "       'Dominican Rep.', 'Russia', 'Bahamas', 'Falkland Is.', 'Norway',\n",
              "       'Greenland', 'Fr. S. Antarctic Lands', 'Timor-Leste',\n",
              "       'South Africa', 'Lesotho', 'Mexico', 'Uruguay', 'Brazil',\n",
              "       'Bolivia', 'Peru', 'Colombia', 'Panama', 'Costa Rica', 'Nicaragua',\n",
              "       'Honduras', 'El Salvador', 'Guatemala', 'Belize', 'Venezuela',\n",
              "       'Guyana', 'Suriname', 'France', 'Ecuador', 'Puerto Rico',\n",
              "       'Jamaica', 'Cuba', 'Zimbabwe', 'Botswana', 'Namibia', 'Senegal',\n",
              "       'Mali', 'Mauritania', 'Benin', 'Niger', 'Nigeria', 'Cameroon',\n",
              "       'Togo', 'Ghana', \"Côte d'Ivoire\", 'Guinea', 'Guinea-Bissau',\n",
              "       'Liberia', 'Sierra Leone', 'Burkina Faso', 'Central African Rep.',\n",
              "       'Congo', 'Gabon', 'Eq. Guinea', 'Zambia', 'Malawi', 'Mozambique',\n",
              "       'eSwatini', 'Angola', 'Burundi', 'Israel', 'Lebanon', 'Madagascar',\n",
              "       'Palestine', 'Gambia', 'Tunisia', 'Algeria', 'Jordan',\n",
              "       'United Arab Emirates', 'Qatar', 'Kuwait', 'Iraq', 'Oman',\n",
              "       'Vanuatu', 'Cambodia', 'Thailand', 'Laos', 'Myanmar', 'Vietnam',\n",
              "       'North Korea', 'South Korea', 'Mongolia', 'India', 'Bangladesh',\n",
              "       'Bhutan', 'Nepal', 'Pakistan', 'Afghanistan', 'Tajikistan',\n",
              "       'Kyrgyzstan', 'Turkmenistan', 'Iran', 'Syria', 'Armenia', 'Sweden',\n",
              "       'Belarus', 'Ukraine', 'Poland', 'Austria', 'Hungary', 'Moldova',\n",
              "       'Romania', 'Lithuania', 'Latvia', 'Estonia', 'Germany', 'Bulgaria',\n",
              "       'Greece', 'Turkey', 'Albania', 'Croatia', 'Switzerland',\n",
              "       'Luxembourg', 'Belgium', 'Netherlands', 'Portugal', 'Spain',\n",
              "       'Ireland', 'New Caledonia', 'Solomon Is.', 'New Zealand',\n",
              "       'Australia', 'Sri Lanka', 'China', 'Taiwan', 'Italy', 'Denmark',\n",
              "       'United Kingdom', 'Iceland', 'Azerbaijan', 'Georgia',\n",
              "       'Philippines', 'Malaysia', 'Brunei', 'Slovenia', 'Finland',\n",
              "       'Slovakia', 'Czechia', 'Eritrea', 'Japan', 'Paraguay', 'Yemen',\n",
              "       'Saudi Arabia', 'Antarctica', 'N. Cyprus', 'Cyprus', 'Morocco',\n",
              "       'Egypt', 'Libya', 'Ethiopia', 'Djibouti', 'Somaliland', 'Uganda',\n",
              "       'Rwanda', 'Bosnia and Herz.', 'Macedonia', 'Serbia', 'Montenegro',\n",
              "       'Kosovo', 'Trinidad and Tobago', 'S. Sudan'], dtype=object)"
            ]
          },
          "metadata": {},
          "execution_count": 13
        }
      ]
    },
    {
      "cell_type": "code",
      "source": [
        "fig, gax = plt.subplots(figsize=(10,10))\n",
        "\n",
        "# By only plotting rows in which the continent is 'South America' we only plot SA.\n",
        "world.query(\"name == 'United States of America'\").plot(ax=gax, edgecolor='black',color='white')\n",
        "\n",
        "# By the way, if you haven't read the book 'longitude' by Dava Sobel, you should...\n",
        "gax.set_xlabel('longitude')\n",
        "gax.set_ylabel('latitude')\n",
        "\n",
        "gax.spines['top'].set_visible(False)\n",
        "gax.spines['right'].set_visible(False)"
      ],
      "metadata": {
        "colab": {
          "base_uri": "https://localhost:8080/",
          "height": 476
        },
        "id": "swDogh7dfusl",
        "outputId": "2f8cc98d-220b-4a92-a4fd-680c3521488d"
      },
      "execution_count": 14,
      "outputs": [
        {
          "output_type": "display_data",
          "data": {
            "text/plain": [
              "<Figure size 720x720 with 1 Axes>"
            ],
            "image/png": "[encoded data removed]"
          },
          "metadata": {}
        }
      ]
    },
    {
      "cell_type": "code",
      "source": [
        "# Step 3: Plot the cities onto the map\n",
        "# We mostly use the code from before --- we still want the country borders plotted --- and we\n",
        "# add a command to plot the cities\n",
        "fig, gax = plt.subplots(figsize=(10,10))\n",
        "\n",
        "# By only plotting rows in which the continent is 'South America' we only plot, well,\n",
        "# South America.\n",
        "world.query(\"name == 'United States of America'\").plot(ax = gax, edgecolor='black', color='white')\n",
        "\n",
        "# This plot the cities. It's the same syntax, but we are plotting from a different GeoDataFrame.\n",
        "# I want the cities as pale red dots.\n",
        "gdf.plot(ax=gax, color='red', alpha = 0.5)\n",
        "\n",
        "gax.set_xlabel('longitude')\n",
        "gax.set_ylabel('latitude')\n",
        "gax.set_title('Target en Estados Unidos')\n",
        "\n",
        "gax.spines['top'].set_visible(False)\n",
        "gax.spines['right'].set_visible(False)\n",
        "\n",
        "plt.show()"
      ],
      "metadata": {
        "colab": {
          "base_uri": "https://localhost:8080/",
          "height": 381
        },
        "id": "OR0ydTOvf_Xp",
        "outputId": "855967fa-3a30-452b-a7f0-e55d614ad1fa"
      },
      "execution_count": 15,
      "outputs": [
        {
          "output_type": "display_data",
          "data": {
            "text/plain": [
              "<Figure size 720x720 with 1 Axes>"
            ],
            "image/png": "[encoded data removed]"
          },
          "metadata": {}
        }
      ]
    },
    {
      "cell_type": "markdown",
      "source": [
        "¿qué tal ahora?, tiene mayor sentido verdad, entonces los datos lejanos no eran atípicos, de aquí la importancia de ver los datos con el tipo de gráfica correcta.\n",
        "\n",
        "Ahora sí, implementa K means a los datos de latitud y longitud :) y encuentra donde colocar los almacenes. \n",
        "\n",
        "Nota: si te llama la atención implementar alguna otra visualización con otra librería, lo puedes hacer, no hay restricciones."
      ],
      "metadata": {
        "id": "SMkonhsqfgSf"
      }
    },
    {
      "cell_type": "code",
      "source": [
        "!pip install kneed"
      ],
      "metadata": {
        "id": "R_Jvw8EeMuB_"
      },
      "execution_count": null,
      "outputs": []
    },
    {
      "cell_type": "code",
      "source": [
        "import seaborn as sns\n",
        "from sklearn.cluster import KMeans\n",
        "from sklearn.decomposition import PCA\n",
        "from sklearn.metrics import silhouette_score, adjusted_rand_score\n",
        "from sklearn.pipeline import Pipeline\n",
        "from sklearn.preprocessing import LabelEncoder, MinMaxScaler,StandardScaler\n",
        "from kneed import KneeLocator\n"
      ],
      "metadata": {
        "id": "uNtT44dNL5uv"
      },
      "execution_count": 29,
      "outputs": []
    },
    {
      "cell_type": "code",
      "source": [
        "preprocessor = Pipeline([(\"scaler\", StandardScaler()),(\"pca\", PCA(n_components=2, random_state=42)),])"
      ],
      "metadata": {
        "id": "6TfQ3mtwLnKT"
      },
      "execution_count": 30,
      "outputs": []
    },
    {
      "cell_type": "code",
      "source": [
        "n_clusters = 1"
      ],
      "metadata": {
        "id": "hNwvIj07MNot"
      },
      "execution_count": 19,
      "outputs": []
    },
    {
      "cell_type": "code",
      "source": [
        "\n",
        "silhouette_coefficients = []\n",
        "\n",
        "for k in range(2, 11):\n",
        "    clusterer = Pipeline(   [(\"kmeans\",KMeans( n_clusters = k, init=\"k-means++\", \n",
        "                                          n_init=50, max_iter=500, random_state=42, ),),])\n",
        "    \n",
        "    pipe = Pipeline([(\"preprocessor\", preprocessor),(\"clusterer\", clusterer)])\n",
        "    \n",
        "    pipe.fit(latlong)\n",
        "    score = silhouette_score(latlong, pipe[\"clusterer\"][\"kmeans\"].labels_)\n",
        "    silhouette_coefficients.append(score)\n",
        "plt.style.use(\"fivethirtyeight\")\n",
        "plt.plot(range(2, 11), silhouette_coefficients)\n",
        "plt.xticks(range(2, 11))\n",
        "plt.xlabel(\"Number of Clusters\")\n",
        "plt.ylabel(\"Silhouette Coefficient\")\n",
        "plt.show()\n"
      ],
      "metadata": {
        "colab": {
          "base_uri": "https://localhost:8080/",
          "height": 304
        },
        "id": "1TSLuuegM2CD",
        "outputId": "9f6222c4-f650-40b2-cc80-968d693627de"
      },
      "execution_count": 31,
      "outputs": [
        {
          "output_type": "display_data",
          "data": {
            "text/plain": [
              "<Figure size 432x288 with 1 Axes>"
            ],
            "image/png": "[encoded data removed]"
          },
          "metadata": {}
        }
      ]
    },
    {
      "cell_type": "code",
      "source": [
        "n_cluster_Silhouette = np.argmax(silhouette_coefficients)+2"
      ],
      "metadata": {
        "id": "GQAwr716Oc7q"
      },
      "execution_count": 41,
      "outputs": []
    },
    {
      "cell_type": "code",
      "source": [
        "n_cluster_Silhouette"
      ],
      "metadata": {
        "colab": {
          "base_uri": "https://localhost:8080/"
        },
        "id": "WVJJ5-7kOkGI",
        "outputId": "e91f052c-f2c9-4579-c531-e639f210d397"
      },
      "execution_count": 42,
      "outputs": [
        {
          "output_type": "execute_result",
          "data": {
            "text/plain": [
              "9"
            ]
          },
          "metadata": {},
          "execution_count": 42
        }
      ]
    },
    {
      "cell_type": "code",
      "source": [
        "\n",
        "sse = []\n",
        "for k in range(2, 11):\n",
        "    clusterer = Pipeline(   [(\"kmeans\", KMeans( n_clusters = k, init=\"k-means++\", \n",
        "                                          n_init=50, max_iter=500, random_state=42, ),),])\n",
        "    \n",
        "    pipe = Pipeline([(\"preprocessor\", preprocessor),(\"clusterer\", clusterer)])\n",
        "    \n",
        "    pipe.fit(latlong)\n",
        "    sse.append(pipe[\"clusterer\"][\"kmeans\"].inertia_)\n",
        "plt.style.use(\"fivethirtyeight\")\n",
        "plt.plot(range(2, 11), sse)\n",
        "plt.xticks(range(2, 11))\n",
        "plt.xlabel(\"Number of Clusters\")\n",
        "plt.ylabel(\"SSE\")\n",
        "plt.show()"
      ],
      "metadata": {
        "colab": {
          "base_uri": "https://localhost:8080/",
          "height": 304
        },
        "id": "SgEoyjIxNU6g",
        "outputId": "b966ddf6-ba42-428e-aadc-c10b4999a2ce"
      },
      "execution_count": 33,
      "outputs": [
        {
          "output_type": "display_data",
          "data": {
            "text/plain": [
              "<Figure size 432x288 with 1 Axes>"
            ],
            "image/png": "[encoded data removed]"
          },
          "metadata": {}
        }
      ]
    },
    {
      "cell_type": "code",
      "source": [
        "kl = KneeLocator(range(2, 11), sse, curve=\"convex\", direction=\"decreasing\")\n",
        "\n",
        "n_cluster_elbow = kl.elbow"
      ],
      "metadata": {
        "colab": {
          "base_uri": "https://localhost:8080/"
        },
        "id": "ZXYBwXpbOHeF",
        "outputId": "db4f9815-f9da-4e40-9d22-062fa2344137"
      },
      "execution_count": 35,
      "outputs": [
        {
          "output_type": "execute_result",
          "data": {
            "text/plain": [
              "4"
            ]
          },
          "metadata": {},
          "execution_count": 35
        }
      ]
    },
    {
      "cell_type": "code",
      "source": [
        "clusterer = Pipeline(   [(\"kmeans\",KMeans( n_clusters = n_cluster_Silhouette+3, init=\"k-means++\", \n",
        "                                      n_init=50, max_iter=500, random_state=42, ),),])\n",
        "\n",
        "pipe = Pipeline([(\"preprocessor\", preprocessor),(\"clusterer\", clusterer)])"
      ],
      "metadata": {
        "id": "CPhTYqU6Mbt0"
      },
      "execution_count": 97,
      "outputs": []
    },
    {
      "cell_type": "code",
      "source": [
        "pipe.fit(latlong)"
      ],
      "metadata": {
        "colab": {
          "base_uri": "https://localhost:8080/"
        },
        "id": "xzgDFdXFOv_-",
        "outputId": "d0145e22-f804-4546-cb3c-0c6a193f4fa6"
      },
      "execution_count": 98,
      "outputs": [
        {
          "output_type": "execute_result",
          "data": {
            "text/plain": [
              "Pipeline(steps=[('preprocessor',\n",
              "                 Pipeline(steps=[('scaler', StandardScaler()),\n",
              "                                 ('pca',\n",
              "                                  PCA(n_components=2, random_state=42))])),\n",
              "                ('clusterer',\n",
              "                 Pipeline(steps=[('kmeans',\n",
              "                                  KMeans(max_iter=500, n_clusters=12, n_init=50,\n",
              "                                         random_state=42))]))])"
            ]
          },
          "metadata": {},
          "execution_count": 98
        }
      ]
    },
    {
      "cell_type": "code",
      "source": [
        "centroids = preprocessor.inverse_transform(pipe[\"clusterer\"][\"kmeans\"].cluster_centers_)"
      ],
      "metadata": {
        "id": "4F_WbTvGREog"
      },
      "execution_count": 99,
      "outputs": []
    },
    {
      "cell_type": "code",
      "source": [
        "df_to_plot = latlong.copy()\n",
        "df_to_plot[\"predicted_cluster\"] = pipe[\"clusterer\"][\"kmeans\"].labels_\n",
        "\n",
        "\n",
        "\n",
        "fig, gax = plt.subplots(figsize=(20,10))\n",
        "\n",
        "world.query(\"name == 'United States of America'\").plot(ax = gax, edgecolor='black', color='white')\n",
        "\n",
        "scat = sns.scatterplot(\n",
        "    \"longitude\",\n",
        "    \"latitude\",\n",
        "    s=50,\n",
        "    data=df_to_plot,\n",
        "    hue=\"predicted_cluster\",\n",
        "    palette=\"Set3\",\n",
        ")\n",
        "sns.scatterplot(x = centroids[:,1],y  =centroids[:,0],color = \"red\" , s  = 100, label =  \"centroid\",)\n",
        "scat.set_title(\"Clusters Target\")\n",
        "fig.show()"
      ],
      "metadata": {
        "colab": {
          "base_uri": "https://localhost:8080/",
          "height": 730
        },
        "id": "s6IpePVgOx13",
        "outputId": "50789c1a-b40e-47f7-afa7-62a985a2121c"
      },
      "execution_count": 149,
      "outputs": [
        {
          "output_type": "stream",
          "name": "stderr",
          "text": [
            "/usr/local/lib/python3.7/dist-packages/seaborn/_decorators.py:43: FutureWarning: Pass the following variables as keyword args: x, y. From version 0.12, the only valid positional argument will be `data`, and passing other arguments without an explicit keyword will result in an error or misinterpretation.\n",
            "  FutureWarning\n"
          ]
        },
        {
          "output_type": "display_data",
          "data": {
            "text/plain": [
              "<Figure size 1440x720 with 1 Axes>"
            ],
            "image/png": "[encoded data removed]"
          },
          "metadata": {}
        }
      ]
    },
    {
      "cell_type": "markdown",
      "source": [
        "* Encuentra las latitudes y longitudes de los almacenes  y ¿De qué ciudad son?\n"
      ],
      "metadata": {
        "id": "DvGus-ugT3az"
      }
    },
    {
      "cell_type": "code",
      "source": [
        "def distance_centroid(coordinates,cl):\n",
        "  centroid = centroids[cl]\n",
        "  distance = coordinates.distance(Point(centroid[::-1]))\n",
        "  return distance"
      ],
      "metadata": {
        "id": "7hLkfQ7QYX-M"
      },
      "execution_count": 157,
      "outputs": []
    },
    {
      "cell_type": "code",
      "source": [
        "def get_nearest_city(centroid):\n",
        "  idx_min = gdf.drop_duplicates(subset = \"name\")[\"Coordinates\"].distance(Point(centroid[::-1])).idxmin()\n",
        "  return gdf.loc[idx_min, \"name\"]"
      ],
      "metadata": {
        "id": "BpqvjJcNVHw4"
      },
      "execution_count": 136,
      "outputs": []
    },
    {
      "cell_type": "code",
      "source": [
        "city = {}\n",
        "for cl,centroid in enumerate(centroids):\n",
        "  city[cl] = get_nearest_city(centroid)\n",
        "  print(cl,centroid, city[cl])"
      ],
      "metadata": {
        "colab": {
          "base_uri": "https://localhost:8080/"
        },
        "id": "zA5pnTyGT4-7",
        "outputId": "5b0bc88f-e707-4f33-8950-d8763112105e"
      },
      "execution_count": 150,
      "outputs": [
        {
          "output_type": "stream",
          "name": "stdout",
          "text": [
            "0 [ 35.31722162 -83.35410753] Maryville\n",
            "1 [  33.94249438 -115.76528117] La Quinta\n",
            "2 [ 41.36552421 -86.52482668] South Bend\n",
            "3 [  46.30773633 -120.38807072] Yakima\n",
            "4 [ 27.89133799 -81.5747854 ] NE Polk County\n",
            "5 [ 40.80868017 -74.94417454] Washington Twp\n",
            "6 [ 30.94575314 -96.11668259] Bryan\n",
            "7 [  39.24045722 -101.34719791] Garden City\n",
            "8 [  20.94542771 -157.31225085] Oahu Kailua\n",
            "9 [  37.89556464 -121.42512336] Tracy\n",
            "10 [  61.31264473 -149.6767927 ] Anchorage NE\n",
            "11 [ 45.00169656 -93.19208901] Roseville T1\n"
          ]
        }
      ]
    },
    {
      "cell_type": "markdown",
      "source": [
        "* ¿a cuantas tiendas va surtir?, "
      ],
      "metadata": {
        "id": "itf1hkdEXnBE"
      }
    },
    {
      "cell_type": "code",
      "source": [
        "df_to_plot[\"city\"] = df_to_plot[\"predicted_cluster\"].map(city)"
      ],
      "metadata": {
        "id": "0M5PRVIFXnxR"
      },
      "execution_count": 143,
      "outputs": []
    },
    {
      "cell_type": "code",
      "source": [
        "df_to_plot[\"city\"].value_counts()"
      ],
      "metadata": {
        "colab": {
          "base_uri": "https://localhost:8080/"
        },
        "id": "fpG-eSuzX6Iy",
        "outputId": "0f926985-4470-40d7-c96c-2230a8be43b8"
      },
      "execution_count": 146,
      "outputs": [
        {
          "output_type": "execute_result",
          "data": {
            "text/plain": [
              "Washington Twp    403\n",
              "South Bend        304\n",
              "Maryville         238\n",
              "La Quinta         193\n",
              "Bryan             183\n",
              "Garden City       125\n",
              "NE Polk County    124\n",
              "Roseville T1      101\n",
              "Tracy              80\n",
              "Yakima             77\n",
              "Oahu Kailua         8\n",
              "Anchorage NE        3\n",
              "Name: city, dtype: int64"
            ]
          },
          "metadata": {},
          "execution_count": 146
        }
      ]
    },
    {
      "cell_type": "markdown",
      "source": [
        "* ¿sabes a que distancia estará?"
      ],
      "metadata": {
        "id": "fdPkksyBYMjT"
      }
    },
    {
      "cell_type": "code",
      "source": [
        "gdf[\"cl\"] = df_to_plot[\"predicted_cluster\"]"
      ],
      "metadata": {
        "id": "r2ffkK_8YthC"
      },
      "execution_count": 156,
      "outputs": []
    },
    {
      "cell_type": "code",
      "source": [
        "gdf[\"distance_to_warehouse\"] = gdf[[\"cl\",\"Coordinates\"]].apply(lambda x: distance_centroid(x[\"Coordinates\"],x[\"cl\"],),axis = 1)"
      ],
      "metadata": {
        "id": "0gJxTtZ8YPYo"
      },
      "execution_count": 160,
      "outputs": []
    },
    {
      "cell_type": "code",
      "source": [
        "gdf.groupby(\"cl\")[\"distance_to_warehouse\"].describe().style.background_gradient()"
      ],
      "metadata": {
        "colab": {
          "base_uri": "https://localhost:8080/",
          "height": 457
        },
        "id": "z8sm-zbJZJII",
        "outputId": "70d49eb9-8fc2-4d9d-ac7f-0359eb623b4b"
      },
      "execution_count": 162,
      "outputs": [
        {
          "output_type": "execute_result",
          "data": {
            "text/plain": [
              "<pandas.io.formats.style.Styler at 0x7f81a4d69bd0>"
            ],
            "text/html": [
              "<style type=\"text/css\">\n",
              "#T_39bb7_row0_col0, #T_39bb7_row3_col4 {\n",
              "  background-color: #4897c4;\n",
              "  color: #f1f1f1;\n",
              "}\n",
              "#T_39bb7_row0_col1 {\n",
              "  background-color: #187cb6;\n",
              "  color: #f1f1f1;\n",
              "}\n",
              "#T_39bb7_row0_col2 {\n",
              "  background-color: #02395a;\n",
              "  color: #f1f1f1;\n",
              "}\n",
              "#T_39bb7_row0_col3, #T_39bb7_row0_col4 {\n",
              "  background-color: #569dc8;\n",
              "  color: #f1f1f1;\n",
              "}\n",
              "#T_39bb7_row0_col5 {\n",
              "  background-color: #2f8bbe;\n",
              "  color: #f1f1f1;\n",
              "}\n",
              "#T_39bb7_row0_col6 {\n",
              "  background-color: #056aa6;\n",
              "  color: #f1f1f1;\n",
              "}\n",
              "#T_39bb7_row0_col7 {\n",
              "  background-color: #034c78;\n",
              "  color: #f1f1f1;\n",
              "}\n",
              "#T_39bb7_row1_col0 {\n",
              "  background-color: #7eadd1;\n",
              "  color: #f1f1f1;\n",
              "}\n",
              "#T_39bb7_row1_col1, #T_39bb7_row2_col5 {\n",
              "  background-color: #78abd0;\n",
              "  color: #f1f1f1;\n",
              "}\n",
              "#T_39bb7_row1_col2 {\n",
              "  background-color: #2081b9;\n",
              "  color: #f1f1f1;\n",
              "}\n",
              "#T_39bb7_row1_col3 {\n",
              "  background-color: #97b7d7;\n",
              "  color: #000000;\n",
              "}\n",
              "#T_39bb7_row1_col4 {\n",
              "  background-color: #76aad0;\n",
              "  color: #f1f1f1;\n",
              "}\n",
              "#T_39bb7_row1_col5, #T_39bb7_row4_col2 {\n",
              "  background-color: #9fbad9;\n",
              "  color: #000000;\n",
              "}\n",
              "#T_39bb7_row1_col6 {\n",
              "  background-color: #71a8ce;\n",
              "  color: #f1f1f1;\n",
              "}\n",
              "#T_39bb7_row1_col7 {\n",
              "  background-color: #04629a;\n",
              "  color: #f1f1f1;\n",
              "}\n",
              "#T_39bb7_row2_col0 {\n",
              "  background-color: #056faf;\n",
              "  color: #f1f1f1;\n",
              "}\n",
              "#T_39bb7_row2_col1 {\n",
              "  background-color: #79abd0;\n",
              "  color: #f1f1f1;\n",
              "}\n",
              "#T_39bb7_row2_col2, #T_39bb7_row5_col2 {\n",
              "  background-color: #4094c3;\n",
              "  color: #f1f1f1;\n",
              "}\n",
              "#T_39bb7_row2_col3 {\n",
              "  background-color: #c8cde4;\n",
              "  color: #000000;\n",
              "}\n",
              "#T_39bb7_row2_col4 {\n",
              "  background-color: #9cb9d9;\n",
              "  color: #000000;\n",
              "}\n",
              "#T_39bb7_row2_col6 {\n",
              "  background-color: #5a9ec9;\n",
              "  color: #f1f1f1;\n",
              "}\n",
              "#T_39bb7_row2_col7 {\n",
              "  background-color: #4496c3;\n",
              "  color: #f1f1f1;\n",
              "}\n",
              "#T_39bb7_row3_col0 {\n",
              "  background-color: #dfddec;\n",
              "  color: #000000;\n",
              "}\n",
              "#T_39bb7_row3_col1 {\n",
              "  background-color: #4c99c5;\n",
              "  color: #f1f1f1;\n",
              "}\n",
              "#T_39bb7_row3_col2, #T_39bb7_row3_col7, #T_39bb7_row5_col0, #T_39bb7_row7_col1, #T_39bb7_row7_col3, #T_39bb7_row7_col4, #T_39bb7_row7_col5, #T_39bb7_row7_col6 {\n",
              "  background-color: #023858;\n",
              "  color: #f1f1f1;\n",
              "}\n",
              "#T_39bb7_row3_col3, #T_39bb7_row4_col5 {\n",
              "  background-color: #d8d7e9;\n",
              "  color: #000000;\n",
              "}\n",
              "#T_39bb7_row3_col5 {\n",
              "  background-color: #94b6d7;\n",
              "  color: #000000;\n",
              "}\n",
              "#T_39bb7_row3_col6 {\n",
              "  background-color: #80aed2;\n",
              "  color: #f1f1f1;\n",
              "}\n",
              "#T_39bb7_row4_col0 {\n",
              "  background-color: #bfc9e1;\n",
              "  color: #000000;\n",
              "}\n",
              "#T_39bb7_row4_col1 {\n",
              "  background-color: #cccfe5;\n",
              "  color: #000000;\n",
              "}\n",
              "#T_39bb7_row4_col3, #T_39bb7_row6_col3 {\n",
              "  background-color: #d2d3e7;\n",
              "  color: #000000;\n",
              "}\n",
              "#T_39bb7_row4_col4 {\n",
              "  background-color: #d9d8ea;\n",
              "  color: #000000;\n",
              "}\n",
              "#T_39bb7_row4_col6 {\n",
              "  background-color: #bcc7e1;\n",
              "  color: #000000;\n",
              "}\n",
              "#T_39bb7_row4_col7 {\n",
              "  background-color: #84b0d3;\n",
              "  color: #f1f1f1;\n",
              "}\n",
              "#T_39bb7_row5_col1 {\n",
              "  background-color: #99b8d8;\n",
              "  color: #000000;\n",
              "}\n",
              "#T_39bb7_row5_col3 {\n",
              "  background-color: #f5eef6;\n",
              "  color: #000000;\n",
              "}\n",
              "#T_39bb7_row5_col4 {\n",
              "  background-color: #d4d4e8;\n",
              "  color: #000000;\n",
              "}\n",
              "#T_39bb7_row5_col5 {\n",
              "  background-color: #a1bbda;\n",
              "  color: #000000;\n",
              "}\n",
              "#T_39bb7_row5_col6, #T_39bb7_row6_col1 {\n",
              "  background-color: #69a5cc;\n",
              "  color: #f1f1f1;\n",
              "}\n",
              "#T_39bb7_row5_col7 {\n",
              "  background-color: #3f93c2;\n",
              "  color: #f1f1f1;\n",
              "}\n",
              "#T_39bb7_row6_col0 {\n",
              "  background-color: #88b1d4;\n",
              "  color: #000000;\n",
              "}\n",
              "#T_39bb7_row6_col2 {\n",
              "  background-color: #034165;\n",
              "  color: #f1f1f1;\n",
              "}\n",
              "#T_39bb7_row6_col4 {\n",
              "  background-color: #93b5d6;\n",
              "  color: #000000;\n",
              "}\n",
              "#T_39bb7_row6_col5 {\n",
              "  background-color: #abbfdc;\n",
              "  color: #000000;\n",
              "}\n",
              "#T_39bb7_row6_col6 {\n",
              "  background-color: #62a2cb;\n",
              "  color: #f1f1f1;\n",
              "}\n",
              "#T_39bb7_row6_col7 {\n",
              "  background-color: #045585;\n",
              "  color: #f1f1f1;\n",
              "}\n",
              "#T_39bb7_row7_col0 {\n",
              "  background-color: #bdc8e1;\n",
              "  color: #000000;\n",
              "}\n",
              "#T_39bb7_row7_col2 {\n",
              "  background-color: #034369;\n",
              "  color: #f1f1f1;\n",
              "}\n",
              "#T_39bb7_row7_col7 {\n",
              "  background-color: #045280;\n",
              "  color: #f1f1f1;\n",
              "}\n",
              "#T_39bb7_row8_col0 {\n",
              "  background-color: #fdf5fa;\n",
              "  color: #000000;\n",
              "}\n",
              "#T_39bb7_row8_col1, #T_39bb7_row9_col0 {\n",
              "  background-color: #dddbec;\n",
              "  color: #000000;\n",
              "}\n",
              "#T_39bb7_row8_col2 {\n",
              "  background-color: #c0c9e2;\n",
              "  color: #000000;\n",
              "}\n",
              "#T_39bb7_row8_col3 {\n",
              "  background-color: #8bb2d4;\n",
              "  color: #000000;\n",
              "}\n",
              "#T_39bb7_row8_col4 {\n",
              "  background-color: #e7e3f0;\n",
              "  color: #000000;\n",
              "}\n",
              "#T_39bb7_row8_col5 {\n",
              "  background-color: #eee9f3;\n",
              "  color: #000000;\n",
              "}\n",
              "#T_39bb7_row8_col6 {\n",
              "  background-color: #ced0e6;\n",
              "  color: #000000;\n",
              "}\n",
              "#T_39bb7_row8_col7 {\n",
              "  background-color: #dedcec;\n",
              "  color: #000000;\n",
              "}\n",
              "#T_39bb7_row9_col1 {\n",
              "  background-color: #e4e1ef;\n",
              "  color: #000000;\n",
              "}\n",
              "#T_39bb7_row9_col2 {\n",
              "  background-color: #9ebad9;\n",
              "  color: #000000;\n",
              "}\n",
              "#T_39bb7_row9_col3 {\n",
              "  background-color: #f2ecf5;\n",
              "  color: #000000;\n",
              "}\n",
              "#T_39bb7_row9_col4 {\n",
              "  background-color: #eae6f1;\n",
              "  color: #000000;\n",
              "}\n",
              "#T_39bb7_row9_col5 {\n",
              "  background-color: #efe9f3;\n",
              "  color: #000000;\n",
              "}\n",
              "#T_39bb7_row9_col6 {\n",
              "  background-color: #ebe6f2;\n",
              "  color: #000000;\n",
              "}\n",
              "#T_39bb7_row9_col7 {\n",
              "  background-color: #2c89bd;\n",
              "  color: #f1f1f1;\n",
              "}\n",
              "#T_39bb7_row10_col0, #T_39bb7_row10_col1, #T_39bb7_row10_col2, #T_39bb7_row10_col4, #T_39bb7_row10_col5, #T_39bb7_row10_col6, #T_39bb7_row10_col7, #T_39bb7_row11_col3 {\n",
              "  background-color: #fff7fb;\n",
              "  color: #000000;\n",
              "}\n",
              "#T_39bb7_row10_col3 {\n",
              "  background-color: #f6eff7;\n",
              "  color: #000000;\n",
              "}\n",
              "#T_39bb7_row11_col0 {\n",
              "  background-color: #d2d2e7;\n",
              "  color: #000000;\n",
              "}\n",
              "#T_39bb7_row11_col1 {\n",
              "  background-color: #c9cee4;\n",
              "  color: #000000;\n",
              "}\n",
              "#T_39bb7_row11_col2 {\n",
              "  background-color: #034a74;\n",
              "  color: #f1f1f1;\n",
              "}\n",
              "#T_39bb7_row11_col4 {\n",
              "  background-color: #fef6fb;\n",
              "  color: #000000;\n",
              "}\n",
              "#T_39bb7_row11_col5 {\n",
              "  background-color: #faf2f8;\n",
              "  color: #000000;\n",
              "}\n",
              "#T_39bb7_row11_col6 {\n",
              "  background-color: #a8bedc;\n",
              "  color: #000000;\n",
              "}\n",
              "#T_39bb7_row11_col7 {\n",
              "  background-color: #046097;\n",
              "  color: #f1f1f1;\n",
              "}\n",
              "</style>\n",
              "<table id=\"T_39bb7_\" class=\"dataframe\">\n",
              "  <thead>\n",
              "    <tr>\n",
              "      <th class=\"blank level0\" >&nbsp;</th>\n",
              "      <th class=\"col_heading level0 col0\" >count</th>\n",
              "      <th class=\"col_heading level0 col1\" >mean</th>\n",
              "      <th class=\"col_heading level0 col2\" >std</th>\n",
              "      <th class=\"col_heading level0 col3\" >min</th>\n",
              "      <th class=\"col_heading level0 col4\" >25%</th>\n",
              "      <th class=\"col_heading level0 col5\" >50%</th>\n",
              "      <th class=\"col_heading level0 col6\" >75%</th>\n",
              "      <th class=\"col_heading level0 col7\" >max</th>\n",
              "    </tr>\n",
              "    <tr>\n",
              "      <th class=\"index_name level0\" >cl</th>\n",
              "      <th class=\"blank col0\" >&nbsp;</th>\n",
              "      <th class=\"blank col1\" >&nbsp;</th>\n",
              "      <th class=\"blank col2\" >&nbsp;</th>\n",
              "      <th class=\"blank col3\" >&nbsp;</th>\n",
              "      <th class=\"blank col4\" >&nbsp;</th>\n",
              "      <th class=\"blank col5\" >&nbsp;</th>\n",
              "      <th class=\"blank col6\" >&nbsp;</th>\n",
              "      <th class=\"blank col7\" >&nbsp;</th>\n",
              "    </tr>\n",
              "  </thead>\n",
              "  <tbody>\n",
              "    <tr>\n",
              "      <th id=\"T_39bb7_level0_row0\" class=\"row_heading level0 row0\" >0</th>\n",
              "      <td id=\"T_39bb7_row0_col0\" class=\"data row0 col0\" >238.000000</td>\n",
              "      <td id=\"T_39bb7_row0_col1\" class=\"data row0 col1\" >4.057730</td>\n",
              "      <td id=\"T_39bb7_row0_col2\" class=\"data row0 col2\" >2.357601</td>\n",
              "      <td id=\"T_39bb7_row0_col3\" class=\"data row0 col3\" >0.771414</td>\n",
              "      <td id=\"T_39bb7_row0_col4\" class=\"data row0 col4\" >2.185416</td>\n",
              "      <td id=\"T_39bb7_row0_col5\" class=\"data row0 col5\" >3.613559</td>\n",
              "      <td id=\"T_39bb7_row0_col6\" class=\"data row0 col6\" >5.307158</td>\n",
              "      <td id=\"T_39bb7_row0_col7\" class=\"data row0 col7\" >11.033432</td>\n",
              "    </tr>\n",
              "    <tr>\n",
              "      <th id=\"T_39bb7_level0_row1\" class=\"row_heading level0 row1\" >1</th>\n",
              "      <td id=\"T_39bb7_row1_col0\" class=\"data row1 col0\" >193.000000</td>\n",
              "      <td id=\"T_39bb7_row1_col1\" class=\"data row1 col1\" >2.909975</td>\n",
              "      <td id=\"T_39bb7_row1_col2\" class=\"data row1 col2\" >1.659529</td>\n",
              "      <td id=\"T_39bb7_row1_col3\" class=\"data row1 col3\" >0.574890</td>\n",
              "      <td id=\"T_39bb7_row1_col4\" class=\"data row1 col4\" >1.954455</td>\n",
              "      <td id=\"T_39bb7_row1_col5\" class=\"data row1 col5\" >2.328497</td>\n",
              "      <td id=\"T_39bb7_row1_col6\" class=\"data row1 col6\" >3.534063</td>\n",
              "      <td id=\"T_39bb7_row1_col7\" class=\"data row1 col7\" >9.898374</td>\n",
              "    </tr>\n",
              "    <tr>\n",
              "      <th id=\"T_39bb7_level0_row2\" class=\"row_heading level0 row2\" >2</th>\n",
              "      <td id=\"T_39bb7_row2_col0\" class=\"data row2 col0\" >304.000000</td>\n",
              "      <td id=\"T_39bb7_row2_col1\" class=\"data row2 col1\" >2.900251</td>\n",
              "      <td id=\"T_39bb7_row2_col2\" class=\"data row2 col2\" >1.488711</td>\n",
              "      <td id=\"T_39bb7_row2_col3\" class=\"data row2 col3\" >0.394972</td>\n",
              "      <td id=\"T_39bb7_row2_col4\" class=\"data row2 col4\" >1.615373</td>\n",
              "      <td id=\"T_39bb7_row2_col5\" class=\"data row2 col5\" >2.834050</td>\n",
              "      <td id=\"T_39bb7_row2_col6\" class=\"data row2 col6\" >3.837987</td>\n",
              "      <td id=\"T_39bb7_row2_col7\" class=\"data row2 col7\" >7.257057</td>\n",
              "    </tr>\n",
              "    <tr>\n",
              "      <th id=\"T_39bb7_level0_row3\" class=\"row_heading level0 row3\" >3</th>\n",
              "      <td id=\"T_39bb7_row3_col0\" class=\"data row3 col0\" >77.000000</td>\n",
              "      <td id=\"T_39bb7_row3_col1\" class=\"data row3 col1\" >3.408996</td>\n",
              "      <td id=\"T_39bb7_row3_col2\" class=\"data row3 col2\" >2.370543</td>\n",
              "      <td id=\"T_39bb7_row3_col3\" class=\"data row3 col3\" >0.315627</td>\n",
              "      <td id=\"T_39bb7_row3_col4\" class=\"data row3 col4\" >2.289746</td>\n",
              "      <td id=\"T_39bb7_row3_col5\" class=\"data row3 col5\" >2.457034</td>\n",
              "      <td id=\"T_39bb7_row3_col6\" class=\"data row3 col6\" >3.317322</td>\n",
              "      <td id=\"T_39bb7_row3_col7\" class=\"data row3 col7\" >11.926452</td>\n",
              "    </tr>\n",
              "    <tr>\n",
              "      <th id=\"T_39bb7_level0_row4\" class=\"row_heading level0 row4\" >4</th>\n",
              "      <td id=\"T_39bb7_row4_col0\" class=\"data row4 col0\" >124.000000</td>\n",
              "      <td id=\"T_39bb7_row4_col1\" class=\"data row4 col1\" >1.692340</td>\n",
              "      <td id=\"T_39bb7_row4_col2\" class=\"data row4 col2\" >1.010157</td>\n",
              "      <td id=\"T_39bb7_row4_col3\" class=\"data row4 col3\" >0.349140</td>\n",
              "      <td id=\"T_39bb7_row4_col4\" class=\"data row4 col4\" >0.938033</td>\n",
              "      <td id=\"T_39bb7_row4_col5\" class=\"data row4 col5\" >1.396271</td>\n",
              "      <td id=\"T_39bb7_row4_col6\" class=\"data row4 col6\" >2.297951</td>\n",
              "      <td id=\"T_39bb7_row4_col7\" class=\"data row4 col7\" >5.674673</td>\n",
              "    </tr>\n",
              "    <tr>\n",
              "      <th id=\"T_39bb7_level0_row5\" class=\"row_heading level0 row5\" >5</th>\n",
              "      <td id=\"T_39bb7_row5_col0\" class=\"data row5 col0\" >403.000000</td>\n",
              "      <td id=\"T_39bb7_row5_col1\" class=\"data row5 col1\" >2.464333</td>\n",
              "      <td id=\"T_39bb7_row5_col2\" class=\"data row5 col2\" >1.481423</td>\n",
              "      <td id=\"T_39bb7_row5_col3\" class=\"data row5 col3\" >0.119576</td>\n",
              "      <td id=\"T_39bb7_row5_col4\" class=\"data row5 col4\" >1.020619</td>\n",
              "      <td id=\"T_39bb7_row5_col5\" class=\"data row5 col5\" >2.294764</td>\n",
              "      <td id=\"T_39bb7_row5_col6\" class=\"data row5 col6\" >3.645336</td>\n",
              "      <td id=\"T_39bb7_row5_col7\" class=\"data row5 col7\" >7.397983</td>\n",
              "    </tr>\n",
              "    <tr>\n",
              "      <th id=\"T_39bb7_level0_row6\" class=\"row_heading level0 row6\" >6</th>\n",
              "      <td id=\"T_39bb7_row6_col0\" class=\"data row6 col0\" >183.000000</td>\n",
              "      <td id=\"T_39bb7_row6_col1\" class=\"data row6 col1\" >3.091857</td>\n",
              "      <td id=\"T_39bb7_row6_col2\" class=\"data row6 col2\" >2.299838</td>\n",
              "      <td id=\"T_39bb7_row6_col3\" class=\"data row6 col3\" >0.347436</td>\n",
              "      <td id=\"T_39bb7_row6_col4\" class=\"data row6 col4\" >1.705094</td>\n",
              "      <td id=\"T_39bb7_row6_col5\" class=\"data row6 col5\" >2.164543</td>\n",
              "      <td id=\"T_39bb7_row6_col6\" class=\"data row6 col6\" >3.731741</td>\n",
              "      <td id=\"T_39bb7_row6_col7\" class=\"data row6 col7\" >10.675067</td>\n",
              "    </tr>\n",
              "    <tr>\n",
              "      <th id=\"T_39bb7_level0_row7\" class=\"row_heading level0 row7\" >7</th>\n",
              "      <td id=\"T_39bb7_row7_col0\" class=\"data row7 col0\" >125.000000</td>\n",
              "      <td id=\"T_39bb7_row7_col1\" class=\"data row7 col1\" >5.689275</td>\n",
              "      <td id=\"T_39bb7_row7_col2\" class=\"data row7 col2\" >2.275167</td>\n",
              "      <td id=\"T_39bb7_row7_col3\" class=\"data row7 col3\" >1.357382</td>\n",
              "      <td id=\"T_39bb7_row7_col4\" class=\"data row7 col4\" >3.760872</td>\n",
              "      <td id=\"T_39bb7_row7_col5\" class=\"data row7 col5\" >5.483990</td>\n",
              "      <td id=\"T_39bb7_row7_col6\" class=\"data row7 col6\" >6.686163</td>\n",
              "      <td id=\"T_39bb7_row7_col7\" class=\"data row7 col7\" >10.833429</td>\n",
              "    </tr>\n",
              "    <tr>\n",
              "      <th id=\"T_39bb7_level0_row8\" class=\"row_heading level0 row8\" >8</th>\n",
              "      <td id=\"T_39bb7_row8_col0\" class=\"data row8 col0\" >8.000000</td>\n",
              "      <td id=\"T_39bb7_row8_col1\" class=\"data row8 col1\" >1.305184</td>\n",
              "      <td id=\"T_39bb7_row8_col2\" class=\"data row8 col2\" >0.804091</td>\n",
              "      <td id=\"T_39bb7_row8_col3\" class=\"data row8 col3\" >0.617575</td>\n",
              "      <td id=\"T_39bb7_row8_col4\" class=\"data row8 col4\" >0.714378</td>\n",
              "      <td id=\"T_39bb7_row8_col5\" class=\"data row8 col5\" >0.863671</td>\n",
              "      <td id=\"T_39bb7_row8_col6\" class=\"data row8 col6\" >1.958687</td>\n",
              "      <td id=\"T_39bb7_row8_col7\" class=\"data row8 col7\" >2.573167</td>\n",
              "    </tr>\n",
              "    <tr>\n",
              "      <th id=\"T_39bb7_level0_row9\" class=\"row_heading level0 row9\" >9</th>\n",
              "      <td id=\"T_39bb7_row9_col0\" class=\"data row9 col0\" >80.000000</td>\n",
              "      <td id=\"T_39bb7_row9_col1\" class=\"data row9 col1\" >1.126825</td>\n",
              "      <td id=\"T_39bb7_row9_col2\" class=\"data row9 col2\" >1.025674</td>\n",
              "      <td id=\"T_39bb7_row9_col3\" class=\"data row9 col3\" >0.141776</td>\n",
              "      <td id=\"T_39bb7_row9_col4\" class=\"data row9 col4\" >0.667316</td>\n",
              "      <td id=\"T_39bb7_row9_col5\" class=\"data row9 col5\" >0.839000</td>\n",
              "      <td id=\"T_39bb7_row9_col6\" class=\"data row9 col6\" >1.158786</td>\n",
              "      <td id=\"T_39bb7_row9_col7\" class=\"data row9 col7\" >7.911205</td>\n",
              "    </tr>\n",
              "    <tr>\n",
              "      <th id=\"T_39bb7_level0_row10\" class=\"row_heading level0 row10\" >10</th>\n",
              "      <td id=\"T_39bb7_row10_col0\" class=\"data row10 col0\" >3.000000</td>\n",
              "      <td id=\"T_39bb7_row10_col1\" class=\"data row10 col1\" >0.254443</td>\n",
              "      <td id=\"T_39bb7_row10_col2\" class=\"data row10 col2\" >0.137795</td>\n",
              "      <td id=\"T_39bb7_row10_col3\" class=\"data row10 col3\" >0.107811</td>\n",
              "      <td id=\"T_39bb7_row10_col4\" class=\"data row10 col4\" >0.191038</td>\n",
              "      <td id=\"T_39bb7_row10_col5\" class=\"data row10 col5\" >0.274265</td>\n",
              "      <td id=\"T_39bb7_row10_col6\" class=\"data row10 col6\" >0.327760</td>\n",
              "      <td id=\"T_39bb7_row10_col7\" class=\"data row10 col7\" >0.381255</td>\n",
              "    </tr>\n",
              "    <tr>\n",
              "      <th id=\"T_39bb7_level0_row11\" class=\"row_heading level0 row11\" >11</th>\n",
              "      <td id=\"T_39bb7_row11_col0\" class=\"data row11 col0\" >101.000000</td>\n",
              "      <td id=\"T_39bb7_row11_col1\" class=\"data row11 col1\" >1.734062</td>\n",
              "      <td id=\"T_39bb7_row11_col2\" class=\"data row11 col2\" >2.220026</td>\n",
              "      <td id=\"T_39bb7_row11_col3\" class=\"data row11 col3\" >0.028435</td>\n",
              "      <td id=\"T_39bb7_row11_col4\" class=\"data row11 col4\" >0.211738</td>\n",
              "      <td id=\"T_39bb7_row11_col5\" class=\"data row11 col5\" >0.463838</td>\n",
              "      <td id=\"T_39bb7_row11_col6\" class=\"data row11 col6\" >2.675206</td>\n",
              "      <td id=\"T_39bb7_row11_col7\" class=\"data row11 col7\" >10.037987</td>\n",
              "    </tr>\n",
              "  </tbody>\n",
              "</table>\n"
            ]
          },
          "metadata": {},
          "execution_count": 162
        }
      ]
    },
    {
      "cell_type": "markdown",
      "source": [
        "* ¿Cómo elegiste el número de almacenes?, justifica tu respuesta técnicamente.\n",
        "El numero de almacenes esta basado en la metrica de silueta ya que si usabamos el numero que nos propone el metodo de la inercia quedaria muy corto por la cantidad de tiendas que existen. Por esta razón opte por seleccionar esa metrica. Sin embargo al verlo graficamente el algoritmo seguia sin crear un cluster en el estado de Alaska que por su forma y lejania era imposible asignarle uno fuera de su estado. Por lo tanto se incremento el número de clusters hasta 12"
      ],
      "metadata": {
        "id": "b1Fi6yMIRX6R"
      }
    },
    {
      "cell_type": "markdown",
      "source": [
        "¿qué librerías nos pueden ayudar a graficar este tipo de datos?\n",
        "Geo pandas, shapely, seaborn ( o alguna libreria de visualización), \n",
        "¿Consideras importante que se grafique en un mapa?, ¿por qué?\n",
        "Es importante porque al no conocer la zona geografica nos puede acarrear conclusiones equivocadas y siempre es importante tener en mente toda la información"
      ],
      "metadata": {
        "id": "pJ6bWDQIbPVX"
      }
    },
    {
      "cell_type": "code",
      "source": [],
      "metadata": {
        "id": "ZlEHkOsybt54"
      },
      "execution_count": null,
      "outputs": []
    }
  ]
}